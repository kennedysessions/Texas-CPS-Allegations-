{
 "cells": [
  {
   "cell_type": "markdown",
   "id": "5d1c684f-7d73-42a8-a6ea-306390a9b6db",
   "metadata": {},
   "source": [
    "### CPS claims analysis\n",
    "\n",
    "This notebook runs analyses on CPS claims in Texas tp find yearly tallies"
   ]
  },
  {
   "cell_type": "code",
   "execution_count": 1,
   "id": "d4acdbe3-dd5c-42c9-ae97-f12bba25e681",
   "metadata": {},
   "outputs": [],
   "source": [
    "import pandas as pd"
   ]
  },
  {
   "cell_type": "markdown",
   "id": "c468f114-b8cd-4e52-b0f0-d30b559922d2",
   "metadata": {},
   "source": [
    "Load the data"
   ]
  },
  {
   "cell_type": "code",
   "execution_count": 2,
   "id": "7d142579-0afe-4042-ad45-32e3846cdda3",
   "metadata": {},
   "outputs": [
    {
     "data": {
      "text/html": [
       "<div>\n",
       "<style scoped>\n",
       "    .dataframe tbody tr th:only-of-type {\n",
       "        vertical-align: middle;\n",
       "    }\n",
       "\n",
       "    .dataframe tbody tr th {\n",
       "        vertical-align: top;\n",
       "    }\n",
       "\n",
       "    .dataframe thead th {\n",
       "        text-align: right;\n",
       "    }\n",
       "</style>\n",
       "<table border=\"1\" class=\"dataframe\">\n",
       "  <thead>\n",
       "    <tr style=\"text-align: right;\">\n",
       "      <th></th>\n",
       "      <th>Fiscal Year</th>\n",
       "      <th>County</th>\n",
       "      <th>Region</th>\n",
       "      <th>Type of Allegation</th>\n",
       "      <th>Allegation Count</th>\n",
       "    </tr>\n",
       "  </thead>\n",
       "  <tbody>\n",
       "    <tr>\n",
       "      <th>0</th>\n",
       "      <td>2024</td>\n",
       "      <td>Armstrong</td>\n",
       "      <td>1-Lubbock</td>\n",
       "      <td>Medical Neglect</td>\n",
       "      <td>3</td>\n",
       "    </tr>\n",
       "    <tr>\n",
       "      <th>1</th>\n",
       "      <td>2024</td>\n",
       "      <td>Armstrong</td>\n",
       "      <td>1-Lubbock</td>\n",
       "      <td>Neglectful Supervision</td>\n",
       "      <td>12</td>\n",
       "    </tr>\n",
       "    <tr>\n",
       "      <th>2</th>\n",
       "      <td>2024</td>\n",
       "      <td>Armstrong</td>\n",
       "      <td>1-Lubbock</td>\n",
       "      <td>Physical Abuse</td>\n",
       "      <td>2</td>\n",
       "    </tr>\n",
       "    <tr>\n",
       "      <th>3</th>\n",
       "      <td>2024</td>\n",
       "      <td>Armstrong</td>\n",
       "      <td>1-Lubbock</td>\n",
       "      <td>Physical Neglect</td>\n",
       "      <td>4</td>\n",
       "    </tr>\n",
       "    <tr>\n",
       "      <th>4</th>\n",
       "      <td>2024</td>\n",
       "      <td>Armstrong</td>\n",
       "      <td>1-Lubbock</td>\n",
       "      <td>Sexual Abuse</td>\n",
       "      <td>3</td>\n",
       "    </tr>\n",
       "  </tbody>\n",
       "</table>\n",
       "</div>"
      ],
      "text/plain": [
       "   Fiscal Year     County     Region      Type of Allegation  Allegation Count\n",
       "0         2024  Armstrong  1-Lubbock         Medical Neglect                 3\n",
       "1         2024  Armstrong  1-Lubbock  Neglectful Supervision                12\n",
       "2         2024  Armstrong  1-Lubbock          Physical Abuse                 2\n",
       "3         2024  Armstrong  1-Lubbock        Physical Neglect                 4\n",
       "4         2024  Armstrong  1-Lubbock            Sexual Abuse                 3"
      ]
     },
     "execution_count": 2,
     "metadata": {},
     "output_type": "execute_result"
    }
   ],
   "source": [
    "df=pd.read_csv(\"../Data/investigations.csv\")\n",
    "\n",
    "df.head()\n"
   ]
  },
  {
   "cell_type": "markdown",
   "id": "56c21709-982d-4a98-a9c8-40144c8a24cd",
   "metadata": {},
   "source": [
    "Filter data to 2024"
   ]
  },
  {
   "cell_type": "code",
   "execution_count": 3,
   "id": "382210fe-a3f4-4f01-826e-7a9c3a1121fe",
   "metadata": {},
   "outputs": [
    {
     "data": {
      "text/html": [
       "<div>\n",
       "<style scoped>\n",
       "    .dataframe tbody tr th:only-of-type {\n",
       "        vertical-align: middle;\n",
       "    }\n",
       "\n",
       "    .dataframe tbody tr th {\n",
       "        vertical-align: top;\n",
       "    }\n",
       "\n",
       "    .dataframe thead th {\n",
       "        text-align: right;\n",
       "    }\n",
       "</style>\n",
       "<table border=\"1\" class=\"dataframe\">\n",
       "  <thead>\n",
       "    <tr style=\"text-align: right;\">\n",
       "      <th></th>\n",
       "      <th>Fiscal Year</th>\n",
       "      <th>County</th>\n",
       "      <th>Region</th>\n",
       "      <th>Type of Allegation</th>\n",
       "      <th>Allegation Count</th>\n",
       "    </tr>\n",
       "  </thead>\n",
       "  <tbody>\n",
       "    <tr>\n",
       "      <th>0</th>\n",
       "      <td>2024</td>\n",
       "      <td>Armstrong</td>\n",
       "      <td>1-Lubbock</td>\n",
       "      <td>Medical Neglect</td>\n",
       "      <td>3</td>\n",
       "    </tr>\n",
       "    <tr>\n",
       "      <th>1</th>\n",
       "      <td>2024</td>\n",
       "      <td>Armstrong</td>\n",
       "      <td>1-Lubbock</td>\n",
       "      <td>Neglectful Supervision</td>\n",
       "      <td>12</td>\n",
       "    </tr>\n",
       "    <tr>\n",
       "      <th>2</th>\n",
       "      <td>2024</td>\n",
       "      <td>Armstrong</td>\n",
       "      <td>1-Lubbock</td>\n",
       "      <td>Physical Abuse</td>\n",
       "      <td>2</td>\n",
       "    </tr>\n",
       "    <tr>\n",
       "      <th>3</th>\n",
       "      <td>2024</td>\n",
       "      <td>Armstrong</td>\n",
       "      <td>1-Lubbock</td>\n",
       "      <td>Physical Neglect</td>\n",
       "      <td>4</td>\n",
       "    </tr>\n",
       "    <tr>\n",
       "      <th>4</th>\n",
       "      <td>2024</td>\n",
       "      <td>Armstrong</td>\n",
       "      <td>1-Lubbock</td>\n",
       "      <td>Sexual Abuse</td>\n",
       "      <td>3</td>\n",
       "    </tr>\n",
       "  </tbody>\n",
       "</table>\n",
       "</div>"
      ],
      "text/plain": [
       "   Fiscal Year     County     Region      Type of Allegation  Allegation Count\n",
       "0         2024  Armstrong  1-Lubbock         Medical Neglect                 3\n",
       "1         2024  Armstrong  1-Lubbock  Neglectful Supervision                12\n",
       "2         2024  Armstrong  1-Lubbock          Physical Abuse                 2\n",
       "3         2024  Armstrong  1-Lubbock        Physical Neglect                 4\n",
       "4         2024  Armstrong  1-Lubbock            Sexual Abuse                 3"
      ]
     },
     "execution_count": 3,
     "metadata": {},
     "output_type": "execute_result"
    }
   ],
   "source": [
    "df_2024 = df[df['Fiscal Year'] == 2024]\n",
    "df_2024.head()"
   ]
  },
  {
   "cell_type": "markdown",
   "id": "c8e022f9-0997-40f4-9361-d3a2538b2dd8",
   "metadata": {},
   "source": [
    "This cell grouped allegation count per count and then added them together"
   ]
  },
  {
   "cell_type": "code",
   "execution_count": 4,
   "id": "dac56aa6-17cb-44ce-9ff7-f01586b97e70",
   "metadata": {},
   "outputs": [
    {
     "data": {
      "text/plain": [
       "County\n",
       "Anderson     602\n",
       "Andrews      195\n",
       "Angelina    1424\n",
       "Aransas      330\n",
       "Archer        74\n",
       "Name: Allegation Count, dtype: int64"
      ]
     },
     "execution_count": 4,
     "metadata": {},
     "output_type": "execute_result"
    }
   ],
   "source": [
    "allegations_per_county_2024 = df_2024.groupby('County')['Allegation Count'].sum()\n",
    "allegations_per_county_2024.head()"
   ]
  },
  {
   "cell_type": "markdown",
   "id": "56442acf-db8c-4f1a-b134-4adbbe5beef3",
   "metadata": {},
   "source": [
    "Calculate the number of cases by type of allegations for all years:"
   ]
  },
  {
   "cell_type": "code",
   "execution_count": 5,
   "id": "ac3958dd-f917-46f8-9fd7-c866e7af8da2",
   "metadata": {},
   "outputs": [
    {
     "name": "stdout",
     "output_type": "stream",
     "text": [
      "Type of Allegation\n",
      "Neglectful Supervision                       2524\n",
      "Physical Abuse                               2483\n",
      "Sexual Abuse                                 2462\n",
      "Physical Neglect                             2377\n",
      "Medical Neglect                              2331\n",
      "Emotional Abuse                              2167\n",
      "Refusal To Accept Parental Responsibility    1589\n",
      "Sex Trafficking                               879\n",
      "Abandonment                                   872\n",
      "Labor Trafficking                             228\n",
      "Name: count, dtype: int64\n"
     ]
    }
   ],
   "source": [
    "count_value = df['Type of Allegation'].value_counts()\n",
    "print(count_value)"
   ]
  },
  {
   "cell_type": "markdown",
   "id": "2d57c81c-ea3c-4cf6-8544-fb81750bd652",
   "metadata": {},
   "source": [
    "Calculate the number of cases by type of allegations in 2024:"
   ]
  },
  {
   "cell_type": "code",
   "execution_count": 6,
   "id": "c7b04bc4-d9e2-4ff5-a8c5-1b37c14bee96",
   "metadata": {},
   "outputs": [
    {
     "data": {
      "text/plain": [
       "Type of Allegation\n",
       "Neglectful Supervision    252\n",
       "Physical Abuse            247\n",
       "Sexual Abuse              241\n",
       "Physical Neglect          237\n",
       "Medical Neglect           231\n",
       "Name: count, dtype: int64"
      ]
     },
     "execution_count": 6,
     "metadata": {},
     "output_type": "execute_result"
    }
   ],
   "source": [
    "count_value = df_2024['Type of Allegation'].value_counts()\n",
    "count_value.head()"
   ]
  },
  {
   "cell_type": "markdown",
   "id": "38bc05ce-343b-4a53-a7a7-4e2a73b78d04",
   "metadata": {},
   "source": [
    "Calculate allegation counts for 2024:"
   ]
  },
  {
   "cell_type": "code",
   "execution_count": 7,
   "id": "21dad957-c05a-4a9e-b95d-3e2356bb77d6",
   "metadata": {},
   "outputs": [
    {
     "name": "stdout",
     "output_type": "stream",
     "text": [
      "Type of Allegation\n",
      "Abandonment                                     666\n",
      "Emotional Abuse                                7291\n",
      "Labor Trafficking                                52\n",
      "Medical Neglect                               13237\n",
      "Neglectful Supervision                       159035\n",
      "Physical Abuse                                55785\n",
      "Physical Neglect                              21328\n",
      "Refusal To Accept Parental Responsibility      2279\n",
      "Sex Trafficking                                 642\n",
      "Sexual Abuse                                  46174\n",
      "Name: Allegation Count, dtype: int64\n"
     ]
    }
   ],
   "source": [
    "allegation_counts_2024 = df[df['Fiscal Year']== 2024].groupby('Type of Allegation')['Allegation Count'].sum()\n",
    "print(allegation_counts_2024)"
   ]
  },
  {
   "cell_type": "markdown",
   "id": "feab6783-9017-4454-b643-57d48fba6dda",
   "metadata": {},
   "source": [
    "The number of allegations counts by county "
   ]
  },
  {
   "cell_type": "code",
   "execution_count": 8,
   "id": "54bff6a5-4171-429b-bbd8-f7768e586044",
   "metadata": {},
   "outputs": [
    {
     "data": {
      "text/plain": [
       "County\n",
       "Anderson     602\n",
       "Andrews      195\n",
       "Angelina    1424\n",
       "Aransas      330\n",
       "Archer        74\n",
       "Name: Allegation Count, dtype: int64"
      ]
     },
     "execution_count": 8,
     "metadata": {},
     "output_type": "execute_result"
    }
   ],
   "source": [
    "county_2024 = df[df['Fiscal Year']== 2024].groupby('County')['Allegation Count'].sum()\n",
    "county_2024.head()\n"
   ]
  },
  {
   "cell_type": "markdown",
   "id": "19b01c08-9e5c-4150-b732-e1257dfccadd",
   "metadata": {},
   "source": [
    "The numnber of times counties appear in the dataset:"
   ]
  },
  {
   "cell_type": "code",
   "execution_count": 9,
   "id": "98a45ff6-cdc1-4b7a-9b3b-55b8f0aff960",
   "metadata": {},
   "outputs": [
    {
     "name": "stdout",
     "output_type": "stream",
     "text": [
      "County\n",
      "Anderson     602\n",
      "Andrews      195\n",
      "Angelina    1424\n",
      "Aransas      330\n",
      "Archer        74\n",
      "            ... \n",
      "Wood         547\n",
      "Yoakum        56\n",
      "Young        294\n",
      "Zapata       122\n",
      "Zavala       216\n",
      "Name: Allegation Count, Length: 254, dtype: int64\n"
     ]
    }
   ],
   "source": [
    "county_totals = county_2024.groupby('County').sum()\n",
    "print(county_totals)"
   ]
  },
  {
   "cell_type": "code",
   "execution_count": 10,
   "id": "10812c77-512d-4406-b5a5-7400ad7f4fc2",
   "metadata": {},
   "outputs": [
    {
     "data": {
      "text/plain": [
       "County\n",
       "Harris      44565\n",
       "Bexar       26222\n",
       "Dallas      23983\n",
       "Tarrant     22161\n",
       "Travis       9780\n",
       "            ...  \n",
       "Borden          2\n",
       "Loving          2\n",
       "McMullen        2\n",
       "Terrell         1\n",
       "Roberts         1\n",
       "Name: Allegation Count, Length: 254, dtype: int64"
      ]
     },
     "execution_count": 10,
     "metadata": {},
     "output_type": "execute_result"
    }
   ],
   "source": [
    "county_totals.sort_values(ascending=False)"
   ]
  },
  {
   "cell_type": "markdown",
   "id": "8a4ac53d-9cb0-40d8-9d90-ba76adc00839",
   "metadata": {},
   "source": [
    "Counties with the highest counts of allegations:"
   ]
  },
  {
   "cell_type": "code",
   "execution_count": 12,
   "id": "b14bd241-2c76-42d4-b687-8f798620f7d3",
   "metadata": {},
   "outputs": [
    {
     "data": {
      "text/plain": [
       "County\n",
       "Harris        501089\n",
       "Bexar         298590\n",
       "Dallas        292471\n",
       "Tarrant       271256\n",
       "Travis        120998\n",
       "Hidalgo       117894\n",
       "El Paso        98898\n",
       "Bell           67944\n",
       "Denton         66383\n",
       "Collin         64836\n",
       "Montgomery     64324\n",
       "Nueces         63582\n",
       "Cameron        61459\n",
       "Lubbock        50526\n",
       "Fort Bend      48550\n",
       "McLennan       46002\n",
       "Williamson     45770\n",
       "Galveston      40470\n",
       "Jefferson      36719\n",
       "Taylor         36655\n",
       "Name: Allegation Count, dtype: int64"
      ]
     },
     "execution_count": 12,
     "metadata": {},
     "output_type": "execute_result"
    }
   ],
   "source": [
    "df.groupby(\"County\")[\"Allegation Count\"].sum().sort_values(ascending=False).head(20)\n"
   ]
  },
  {
   "cell_type": "markdown",
   "id": "813bc1e4-26c4-4952-8763-ff5dd3f68125",
   "metadata": {},
   "source": [
    "Calculate allgations by county for all years"
   ]
  },
  {
   "cell_type": "code",
   "execution_count": 13,
   "id": "a1e86490-b45b-49c8-9a79-11683dcbe921",
   "metadata": {},
   "outputs": [
    {
     "name": "stdout",
     "output_type": "stream",
     "text": [
      "Fiscal Year\n",
      "2015    399306\n",
      "2016    381423\n",
      "2017    398738\n",
      "2018    374769\n",
      "2019    348865\n",
      "2020    328306\n",
      "2021    344571\n",
      "2022    356345\n",
      "2023    355292\n",
      "2024    306489\n",
      "Name: Allegation Count, dtype: int64\n"
     ]
    }
   ],
   "source": [
    "cases_per_year = df.groupby('Fiscal Year')['Allegation Count'].sum()\n",
    "print(cases_per_year)"
   ]
  },
  {
   "cell_type": "code",
   "execution_count": 14,
   "id": "427d9dca-cc7b-48d6-8380-f980bf4737f2",
   "metadata": {},
   "outputs": [],
   "source": [
    "cases_per_year.to_csv(\"../output/cases_year.csv\")"
   ]
  },
  {
   "cell_type": "code",
   "execution_count": null,
   "id": "a05836da-1fdc-4fe3-86a7-cd8159fe7ebd",
   "metadata": {},
   "outputs": [],
   "source": []
  }
 ],
 "metadata": {
  "kernelspec": {
   "display_name": "Python 3 (ipykernel)",
   "language": "python",
   "name": "python3"
  },
  "language_info": {
   "codemirror_mode": {
    "name": "ipython",
    "version": 3
   },
   "file_extension": ".py",
   "mimetype": "text/x-python",
   "name": "python",
   "nbconvert_exporter": "python",
   "pygments_lexer": "ipython3",
   "version": "3.8.18"
  }
 },
 "nbformat": 4,
 "nbformat_minor": 5
}
