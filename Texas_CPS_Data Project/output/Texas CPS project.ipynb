{
 "cells": [
  {
   "cell_type": "code",
   "execution_count": 121,
   "id": "d4acdbe3-dd5c-42c9-ae97-f12bba25e681",
   "metadata": {},
   "outputs": [],
   "source": [
    "import pandas as pd"
   ]
  },
  {
   "cell_type": "code",
   "execution_count": null,
   "id": "8a5a6edf-f96b-4023-9e29-7b78cdd6a21b",
   "metadata": {},
   "outputs": [],
   "source": [
    "This notebook runs analysis on CPS claims in Texas"
   ]
  },
  {
   "cell_type": "code",
   "execution_count": 131,
   "id": "7d142579-0afe-4042-ad45-32e3846cdda3",
   "metadata": {},
   "outputs": [],
   "source": [
    "df=pd.read_csv(\"investigations.csv\")"
   ]
  },
  {
   "cell_type": "code",
   "execution_count": null,
   "id": "fb50ca27-a334-4b90-a7b3-664838ce46f8",
   "metadata": {},
   "outputs": [],
   "source": [
    "##This cell shows the top 20 lines of data "
   ]
  },
  {
   "cell_type": "code",
   "execution_count": 132,
   "id": "5ec6dc62-5a46-49a5-9411-44d12b8910a5",
   "metadata": {},
   "outputs": [
    {
     "data": {
      "text/html": [
       "<div>\n",
       "<style scoped>\n",
       "    .dataframe tbody tr th:only-of-type {\n",
       "        vertical-align: middle;\n",
       "    }\n",
       "\n",
       "    .dataframe tbody tr th {\n",
       "        vertical-align: top;\n",
       "    }\n",
       "\n",
       "    .dataframe thead th {\n",
       "        text-align: right;\n",
       "    }\n",
       "</style>\n",
       "<table border=\"1\" class=\"dataframe\">\n",
       "  <thead>\n",
       "    <tr style=\"text-align: right;\">\n",
       "      <th></th>\n",
       "      <th>Fiscal Year</th>\n",
       "      <th>County</th>\n",
       "      <th>Region</th>\n",
       "      <th>Type of Allegation</th>\n",
       "      <th>Allegation Count</th>\n",
       "    </tr>\n",
       "  </thead>\n",
       "  <tbody>\n",
       "    <tr>\n",
       "      <th>0</th>\n",
       "      <td>2024</td>\n",
       "      <td>Armstrong</td>\n",
       "      <td>1-Lubbock</td>\n",
       "      <td>Medical Neglect</td>\n",
       "      <td>3</td>\n",
       "    </tr>\n",
       "    <tr>\n",
       "      <th>1</th>\n",
       "      <td>2024</td>\n",
       "      <td>Armstrong</td>\n",
       "      <td>1-Lubbock</td>\n",
       "      <td>Neglectful Supervision</td>\n",
       "      <td>12</td>\n",
       "    </tr>\n",
       "    <tr>\n",
       "      <th>2</th>\n",
       "      <td>2024</td>\n",
       "      <td>Armstrong</td>\n",
       "      <td>1-Lubbock</td>\n",
       "      <td>Physical Abuse</td>\n",
       "      <td>2</td>\n",
       "    </tr>\n",
       "    <tr>\n",
       "      <th>3</th>\n",
       "      <td>2024</td>\n",
       "      <td>Armstrong</td>\n",
       "      <td>1-Lubbock</td>\n",
       "      <td>Physical Neglect</td>\n",
       "      <td>4</td>\n",
       "    </tr>\n",
       "    <tr>\n",
       "      <th>4</th>\n",
       "      <td>2024</td>\n",
       "      <td>Armstrong</td>\n",
       "      <td>1-Lubbock</td>\n",
       "      <td>Sexual Abuse</td>\n",
       "      <td>3</td>\n",
       "    </tr>\n",
       "    <tr>\n",
       "      <th>5</th>\n",
       "      <td>2024</td>\n",
       "      <td>Bailey</td>\n",
       "      <td>1-Lubbock</td>\n",
       "      <td>Emotional Abuse</td>\n",
       "      <td>3</td>\n",
       "    </tr>\n",
       "    <tr>\n",
       "      <th>6</th>\n",
       "      <td>2024</td>\n",
       "      <td>Bailey</td>\n",
       "      <td>1-Lubbock</td>\n",
       "      <td>Neglectful Supervision</td>\n",
       "      <td>16</td>\n",
       "    </tr>\n",
       "    <tr>\n",
       "      <th>7</th>\n",
       "      <td>2024</td>\n",
       "      <td>Bailey</td>\n",
       "      <td>1-Lubbock</td>\n",
       "      <td>Physical Abuse</td>\n",
       "      <td>11</td>\n",
       "    </tr>\n",
       "    <tr>\n",
       "      <th>8</th>\n",
       "      <td>2024</td>\n",
       "      <td>Bailey</td>\n",
       "      <td>1-Lubbock</td>\n",
       "      <td>Physical Neglect</td>\n",
       "      <td>1</td>\n",
       "    </tr>\n",
       "    <tr>\n",
       "      <th>9</th>\n",
       "      <td>2024</td>\n",
       "      <td>Bailey</td>\n",
       "      <td>1-Lubbock</td>\n",
       "      <td>Sexual Abuse</td>\n",
       "      <td>5</td>\n",
       "    </tr>\n",
       "    <tr>\n",
       "      <th>10</th>\n",
       "      <td>2024</td>\n",
       "      <td>Briscoe</td>\n",
       "      <td>1-Lubbock</td>\n",
       "      <td>Neglectful Supervision</td>\n",
       "      <td>6</td>\n",
       "    </tr>\n",
       "    <tr>\n",
       "      <th>11</th>\n",
       "      <td>2024</td>\n",
       "      <td>Briscoe</td>\n",
       "      <td>1-Lubbock</td>\n",
       "      <td>Physical Abuse</td>\n",
       "      <td>1</td>\n",
       "    </tr>\n",
       "    <tr>\n",
       "      <th>12</th>\n",
       "      <td>2024</td>\n",
       "      <td>Briscoe</td>\n",
       "      <td>1-Lubbock</td>\n",
       "      <td>Physical Neglect</td>\n",
       "      <td>4</td>\n",
       "    </tr>\n",
       "    <tr>\n",
       "      <th>13</th>\n",
       "      <td>2024</td>\n",
       "      <td>Briscoe</td>\n",
       "      <td>1-Lubbock</td>\n",
       "      <td>Sexual Abuse</td>\n",
       "      <td>1</td>\n",
       "    </tr>\n",
       "    <tr>\n",
       "      <th>14</th>\n",
       "      <td>2024</td>\n",
       "      <td>Carson</td>\n",
       "      <td>1-Lubbock</td>\n",
       "      <td>Emotional Abuse</td>\n",
       "      <td>1</td>\n",
       "    </tr>\n",
       "    <tr>\n",
       "      <th>15</th>\n",
       "      <td>2024</td>\n",
       "      <td>Carson</td>\n",
       "      <td>1-Lubbock</td>\n",
       "      <td>Medical Neglect</td>\n",
       "      <td>5</td>\n",
       "    </tr>\n",
       "    <tr>\n",
       "      <th>16</th>\n",
       "      <td>2024</td>\n",
       "      <td>Carson</td>\n",
       "      <td>1-Lubbock</td>\n",
       "      <td>Neglectful Supervision</td>\n",
       "      <td>34</td>\n",
       "    </tr>\n",
       "    <tr>\n",
       "      <th>17</th>\n",
       "      <td>2024</td>\n",
       "      <td>Carson</td>\n",
       "      <td>1-Lubbock</td>\n",
       "      <td>Physical Abuse</td>\n",
       "      <td>7</td>\n",
       "    </tr>\n",
       "    <tr>\n",
       "      <th>18</th>\n",
       "      <td>2024</td>\n",
       "      <td>Carson</td>\n",
       "      <td>1-Lubbock</td>\n",
       "      <td>Physical Neglect</td>\n",
       "      <td>7</td>\n",
       "    </tr>\n",
       "    <tr>\n",
       "      <th>19</th>\n",
       "      <td>2024</td>\n",
       "      <td>Carson</td>\n",
       "      <td>1-Lubbock</td>\n",
       "      <td>Refusal To Accept Parental Responsibility</td>\n",
       "      <td>1</td>\n",
       "    </tr>\n",
       "  </tbody>\n",
       "</table>\n",
       "</div>"
      ],
      "text/plain": [
       "    Fiscal Year     County     Region  \\\n",
       "0          2024  Armstrong  1-Lubbock   \n",
       "1          2024  Armstrong  1-Lubbock   \n",
       "2          2024  Armstrong  1-Lubbock   \n",
       "3          2024  Armstrong  1-Lubbock   \n",
       "4          2024  Armstrong  1-Lubbock   \n",
       "5          2024     Bailey  1-Lubbock   \n",
       "6          2024     Bailey  1-Lubbock   \n",
       "7          2024     Bailey  1-Lubbock   \n",
       "8          2024     Bailey  1-Lubbock   \n",
       "9          2024     Bailey  1-Lubbock   \n",
       "10         2024    Briscoe  1-Lubbock   \n",
       "11         2024    Briscoe  1-Lubbock   \n",
       "12         2024    Briscoe  1-Lubbock   \n",
       "13         2024    Briscoe  1-Lubbock   \n",
       "14         2024     Carson  1-Lubbock   \n",
       "15         2024     Carson  1-Lubbock   \n",
       "16         2024     Carson  1-Lubbock   \n",
       "17         2024     Carson  1-Lubbock   \n",
       "18         2024     Carson  1-Lubbock   \n",
       "19         2024     Carson  1-Lubbock   \n",
       "\n",
       "                           Type of Allegation  Allegation Count  \n",
       "0                             Medical Neglect                 3  \n",
       "1                      Neglectful Supervision                12  \n",
       "2                              Physical Abuse                 2  \n",
       "3                            Physical Neglect                 4  \n",
       "4                                Sexual Abuse                 3  \n",
       "5                             Emotional Abuse                 3  \n",
       "6                      Neglectful Supervision                16  \n",
       "7                              Physical Abuse                11  \n",
       "8                            Physical Neglect                 1  \n",
       "9                                Sexual Abuse                 5  \n",
       "10                     Neglectful Supervision                 6  \n",
       "11                             Physical Abuse                 1  \n",
       "12                           Physical Neglect                 4  \n",
       "13                               Sexual Abuse                 1  \n",
       "14                            Emotional Abuse                 1  \n",
       "15                            Medical Neglect                 5  \n",
       "16                     Neglectful Supervision                34  \n",
       "17                             Physical Abuse                 7  \n",
       "18                           Physical Neglect                 7  \n",
       "19  Refusal To Accept Parental Responsibility                 1  "
      ]
     },
     "execution_count": 132,
     "metadata": {},
     "output_type": "execute_result"
    }
   ],
   "source": [
    "df.head(20)"
   ]
  },
  {
   "cell_type": "code",
   "execution_count": null,
   "id": "5afef095-9c94-4f58-8bf9-c15be1d369d6",
   "metadata": {},
   "outputs": [],
   "source": [
    "##This cell gives us info about the data "
   ]
  },
  {
   "cell_type": "code",
   "execution_count": 127,
   "id": "ba5042d1-20f4-405a-9734-e2d29d4c8ddd",
   "metadata": {},
   "outputs": [
    {
     "name": "stdout",
     "output_type": "stream",
     "text": [
      "<class 'pandas.core.series.Series'>\n",
      "RangeIndex: 17912 entries, 0 to 17911\n",
      "Series name: Fiscal Year\n",
      "Non-Null Count  Dtype\n",
      "--------------  -----\n",
      "17912 non-null  int64\n",
      "dtypes: int64(1)\n",
      "memory usage: 140.1 KB\n"
     ]
    }
   ],
   "source": [
    "df.info()"
   ]
  },
  {
   "cell_type": "code",
   "execution_count": null,
   "id": "9fc25bc7-46f0-4cbe-ad9b-4629265ab213",
   "metadata": {},
   "outputs": [],
   "source": [
    "##This cell shows the tail end of the data "
   ]
  },
  {
   "cell_type": "code",
   "execution_count": 159,
   "id": "438a6f61-3936-457f-acc7-6a0d880c9a0b",
   "metadata": {},
   "outputs": [
    {
     "data": {
      "text/html": [
       "<div>\n",
       "<style scoped>\n",
       "    .dataframe tbody tr th:only-of-type {\n",
       "        vertical-align: middle;\n",
       "    }\n",
       "\n",
       "    .dataframe tbody tr th {\n",
       "        vertical-align: top;\n",
       "    }\n",
       "\n",
       "    .dataframe thead th {\n",
       "        text-align: right;\n",
       "    }\n",
       "</style>\n",
       "<table border=\"1\" class=\"dataframe\">\n",
       "  <thead>\n",
       "    <tr style=\"text-align: right;\">\n",
       "      <th></th>\n",
       "      <th>Fiscal Year</th>\n",
       "      <th>County</th>\n",
       "      <th>Region</th>\n",
       "      <th>Type of Allegation</th>\n",
       "      <th>Allegation Count</th>\n",
       "    </tr>\n",
       "  </thead>\n",
       "  <tbody>\n",
       "    <tr>\n",
       "      <th>17892</th>\n",
       "      <td>2015</td>\n",
       "      <td>Webb</td>\n",
       "      <td>11-Edinburg</td>\n",
       "      <td>Sexual Abuse</td>\n",
       "      <td>595</td>\n",
       "    </tr>\n",
       "    <tr>\n",
       "      <th>17893</th>\n",
       "      <td>2015</td>\n",
       "      <td>Willacy</td>\n",
       "      <td>11-Edinburg</td>\n",
       "      <td>Emotional Abuse</td>\n",
       "      <td>14</td>\n",
       "    </tr>\n",
       "    <tr>\n",
       "      <th>17894</th>\n",
       "      <td>2015</td>\n",
       "      <td>Willacy</td>\n",
       "      <td>11-Edinburg</td>\n",
       "      <td>Medical Neglect</td>\n",
       "      <td>42</td>\n",
       "    </tr>\n",
       "    <tr>\n",
       "      <th>17895</th>\n",
       "      <td>2015</td>\n",
       "      <td>Willacy</td>\n",
       "      <td>11-Edinburg</td>\n",
       "      <td>Neglectful Supervision</td>\n",
       "      <td>300</td>\n",
       "    </tr>\n",
       "    <tr>\n",
       "      <th>17896</th>\n",
       "      <td>2015</td>\n",
       "      <td>Willacy</td>\n",
       "      <td>11-Edinburg</td>\n",
       "      <td>Physical Abuse</td>\n",
       "      <td>118</td>\n",
       "    </tr>\n",
       "    <tr>\n",
       "      <th>17897</th>\n",
       "      <td>2015</td>\n",
       "      <td>Willacy</td>\n",
       "      <td>11-Edinburg</td>\n",
       "      <td>Physical Neglect</td>\n",
       "      <td>53</td>\n",
       "    </tr>\n",
       "    <tr>\n",
       "      <th>17898</th>\n",
       "      <td>2015</td>\n",
       "      <td>Willacy</td>\n",
       "      <td>11-Edinburg</td>\n",
       "      <td>Sexual Abuse</td>\n",
       "      <td>93</td>\n",
       "    </tr>\n",
       "    <tr>\n",
       "      <th>17899</th>\n",
       "      <td>2015</td>\n",
       "      <td>Zapata</td>\n",
       "      <td>11-Edinburg</td>\n",
       "      <td>Abandonment</td>\n",
       "      <td>1</td>\n",
       "    </tr>\n",
       "    <tr>\n",
       "      <th>17900</th>\n",
       "      <td>2015</td>\n",
       "      <td>Zapata</td>\n",
       "      <td>11-Edinburg</td>\n",
       "      <td>Emotional Abuse</td>\n",
       "      <td>2</td>\n",
       "    </tr>\n",
       "    <tr>\n",
       "      <th>17901</th>\n",
       "      <td>2015</td>\n",
       "      <td>Zapata</td>\n",
       "      <td>11-Edinburg</td>\n",
       "      <td>Medical Neglect</td>\n",
       "      <td>19</td>\n",
       "    </tr>\n",
       "    <tr>\n",
       "      <th>17902</th>\n",
       "      <td>2015</td>\n",
       "      <td>Zapata</td>\n",
       "      <td>11-Edinburg</td>\n",
       "      <td>Neglectful Supervision</td>\n",
       "      <td>130</td>\n",
       "    </tr>\n",
       "    <tr>\n",
       "      <th>17903</th>\n",
       "      <td>2015</td>\n",
       "      <td>Zapata</td>\n",
       "      <td>11-Edinburg</td>\n",
       "      <td>Physical Abuse</td>\n",
       "      <td>70</td>\n",
       "    </tr>\n",
       "    <tr>\n",
       "      <th>17904</th>\n",
       "      <td>2015</td>\n",
       "      <td>Zapata</td>\n",
       "      <td>11-Edinburg</td>\n",
       "      <td>Physical Neglect</td>\n",
       "      <td>43</td>\n",
       "    </tr>\n",
       "    <tr>\n",
       "      <th>17905</th>\n",
       "      <td>2015</td>\n",
       "      <td>Zapata</td>\n",
       "      <td>11-Edinburg</td>\n",
       "      <td>Refusal To Accept Parental Responsibility</td>\n",
       "      <td>1</td>\n",
       "    </tr>\n",
       "    <tr>\n",
       "      <th>17906</th>\n",
       "      <td>2015</td>\n",
       "      <td>Zapata</td>\n",
       "      <td>11-Edinburg</td>\n",
       "      <td>Sexual Abuse</td>\n",
       "      <td>22</td>\n",
       "    </tr>\n",
       "    <tr>\n",
       "      <th>17907</th>\n",
       "      <td>2015</td>\n",
       "      <td>Out of State</td>\n",
       "      <td>Out of State</td>\n",
       "      <td>Medical Neglect</td>\n",
       "      <td>4</td>\n",
       "    </tr>\n",
       "    <tr>\n",
       "      <th>17908</th>\n",
       "      <td>2015</td>\n",
       "      <td>Out of State</td>\n",
       "      <td>Out of State</td>\n",
       "      <td>Neglectful Supervision</td>\n",
       "      <td>56</td>\n",
       "    </tr>\n",
       "    <tr>\n",
       "      <th>17909</th>\n",
       "      <td>2015</td>\n",
       "      <td>Out of State</td>\n",
       "      <td>Out of State</td>\n",
       "      <td>Physical Abuse</td>\n",
       "      <td>10</td>\n",
       "    </tr>\n",
       "    <tr>\n",
       "      <th>17910</th>\n",
       "      <td>2015</td>\n",
       "      <td>Out of State</td>\n",
       "      <td>Out of State</td>\n",
       "      <td>Physical Neglect</td>\n",
       "      <td>4</td>\n",
       "    </tr>\n",
       "    <tr>\n",
       "      <th>17911</th>\n",
       "      <td>2015</td>\n",
       "      <td>Out of State</td>\n",
       "      <td>Out of State</td>\n",
       "      <td>Sexual Abuse</td>\n",
       "      <td>13</td>\n",
       "    </tr>\n",
       "  </tbody>\n",
       "</table>\n",
       "</div>"
      ],
      "text/plain": [
       "       Fiscal Year        County        Region  \\\n",
       "17892         2015          Webb   11-Edinburg   \n",
       "17893         2015       Willacy   11-Edinburg   \n",
       "17894         2015       Willacy   11-Edinburg   \n",
       "17895         2015       Willacy   11-Edinburg   \n",
       "17896         2015       Willacy   11-Edinburg   \n",
       "17897         2015       Willacy   11-Edinburg   \n",
       "17898         2015       Willacy   11-Edinburg   \n",
       "17899         2015        Zapata   11-Edinburg   \n",
       "17900         2015        Zapata   11-Edinburg   \n",
       "17901         2015        Zapata   11-Edinburg   \n",
       "17902         2015        Zapata   11-Edinburg   \n",
       "17903         2015        Zapata   11-Edinburg   \n",
       "17904         2015        Zapata   11-Edinburg   \n",
       "17905         2015        Zapata   11-Edinburg   \n",
       "17906         2015        Zapata   11-Edinburg   \n",
       "17907         2015  Out of State  Out of State   \n",
       "17908         2015  Out of State  Out of State   \n",
       "17909         2015  Out of State  Out of State   \n",
       "17910         2015  Out of State  Out of State   \n",
       "17911         2015  Out of State  Out of State   \n",
       "\n",
       "                              Type of Allegation  Allegation Count  \n",
       "17892                               Sexual Abuse               595  \n",
       "17893                            Emotional Abuse                14  \n",
       "17894                            Medical Neglect                42  \n",
       "17895                     Neglectful Supervision               300  \n",
       "17896                             Physical Abuse               118  \n",
       "17897                           Physical Neglect                53  \n",
       "17898                               Sexual Abuse                93  \n",
       "17899                                Abandonment                 1  \n",
       "17900                            Emotional Abuse                 2  \n",
       "17901                            Medical Neglect                19  \n",
       "17902                     Neglectful Supervision               130  \n",
       "17903                             Physical Abuse                70  \n",
       "17904                           Physical Neglect                43  \n",
       "17905  Refusal To Accept Parental Responsibility                 1  \n",
       "17906                               Sexual Abuse                22  \n",
       "17907                            Medical Neglect                 4  \n",
       "17908                     Neglectful Supervision                56  \n",
       "17909                             Physical Abuse                10  \n",
       "17910                           Physical Neglect                 4  \n",
       "17911                               Sexual Abuse                13  "
      ]
     },
     "execution_count": 159,
     "metadata": {},
     "output_type": "execute_result"
    }
   ],
   "source": [
    "df.tail(20)"
   ]
  },
  {
   "cell_type": "code",
   "execution_count": 265,
   "id": "ae3cd94e-c928-4a55-bee0-7708ff29a3d5",
   "metadata": {},
   "outputs": [
    {
     "data": {
      "text/plain": [
       "<pandas.core.indexing._iLocIndexer at 0x16ebf8690>"
      ]
     },
     "execution_count": 265,
     "metadata": {},
     "output_type": "execute_result"
    }
   ],
   "source": [
    "df.iloc"
   ]
  },
  {
   "cell_type": "code",
   "execution_count": 134,
   "id": "2fcc5ae5-0142-49df-9a3c-9825483e0f1b",
   "metadata": {},
   "outputs": [
    {
     "data": {
      "text/html": [
       "<div>\n",
       "<style scoped>\n",
       "    .dataframe tbody tr th:only-of-type {\n",
       "        vertical-align: middle;\n",
       "    }\n",
       "\n",
       "    .dataframe tbody tr th {\n",
       "        vertical-align: top;\n",
       "    }\n",
       "\n",
       "    .dataframe thead th {\n",
       "        text-align: right;\n",
       "    }\n",
       "</style>\n",
       "<table border=\"1\" class=\"dataframe\">\n",
       "  <thead>\n",
       "    <tr style=\"text-align: right;\">\n",
       "      <th></th>\n",
       "      <th>Fiscal Year</th>\n",
       "      <th>County</th>\n",
       "      <th>Region</th>\n",
       "      <th>Type of Allegation</th>\n",
       "      <th>Allegation Count</th>\n",
       "    </tr>\n",
       "  </thead>\n",
       "  <tbody>\n",
       "    <tr>\n",
       "      <th>0</th>\n",
       "      <td>2024</td>\n",
       "      <td>Armstrong</td>\n",
       "      <td>1-Lubbock</td>\n",
       "      <td>Medical Neglect</td>\n",
       "      <td>3</td>\n",
       "    </tr>\n",
       "    <tr>\n",
       "      <th>1</th>\n",
       "      <td>2024</td>\n",
       "      <td>Armstrong</td>\n",
       "      <td>1-Lubbock</td>\n",
       "      <td>Neglectful Supervision</td>\n",
       "      <td>12</td>\n",
       "    </tr>\n",
       "    <tr>\n",
       "      <th>2</th>\n",
       "      <td>2024</td>\n",
       "      <td>Armstrong</td>\n",
       "      <td>1-Lubbock</td>\n",
       "      <td>Physical Abuse</td>\n",
       "      <td>2</td>\n",
       "    </tr>\n",
       "    <tr>\n",
       "      <th>3</th>\n",
       "      <td>2024</td>\n",
       "      <td>Armstrong</td>\n",
       "      <td>1-Lubbock</td>\n",
       "      <td>Physical Neglect</td>\n",
       "      <td>4</td>\n",
       "    </tr>\n",
       "    <tr>\n",
       "      <th>4</th>\n",
       "      <td>2024</td>\n",
       "      <td>Armstrong</td>\n",
       "      <td>1-Lubbock</td>\n",
       "      <td>Sexual Abuse</td>\n",
       "      <td>3</td>\n",
       "    </tr>\n",
       "    <tr>\n",
       "      <th>...</th>\n",
       "      <td>...</td>\n",
       "      <td>...</td>\n",
       "      <td>...</td>\n",
       "      <td>...</td>\n",
       "      <td>...</td>\n",
       "    </tr>\n",
       "    <tr>\n",
       "      <th>17907</th>\n",
       "      <td>2015</td>\n",
       "      <td>Out of State</td>\n",
       "      <td>Out of State</td>\n",
       "      <td>Medical Neglect</td>\n",
       "      <td>4</td>\n",
       "    </tr>\n",
       "    <tr>\n",
       "      <th>17908</th>\n",
       "      <td>2015</td>\n",
       "      <td>Out of State</td>\n",
       "      <td>Out of State</td>\n",
       "      <td>Neglectful Supervision</td>\n",
       "      <td>56</td>\n",
       "    </tr>\n",
       "    <tr>\n",
       "      <th>17909</th>\n",
       "      <td>2015</td>\n",
       "      <td>Out of State</td>\n",
       "      <td>Out of State</td>\n",
       "      <td>Physical Abuse</td>\n",
       "      <td>10</td>\n",
       "    </tr>\n",
       "    <tr>\n",
       "      <th>17910</th>\n",
       "      <td>2015</td>\n",
       "      <td>Out of State</td>\n",
       "      <td>Out of State</td>\n",
       "      <td>Physical Neglect</td>\n",
       "      <td>4</td>\n",
       "    </tr>\n",
       "    <tr>\n",
       "      <th>17911</th>\n",
       "      <td>2015</td>\n",
       "      <td>Out of State</td>\n",
       "      <td>Out of State</td>\n",
       "      <td>Sexual Abuse</td>\n",
       "      <td>13</td>\n",
       "    </tr>\n",
       "  </tbody>\n",
       "</table>\n",
       "<p>17912 rows × 5 columns</p>\n",
       "</div>"
      ],
      "text/plain": [
       "       Fiscal Year        County        Region      Type of Allegation  \\\n",
       "0             2024     Armstrong     1-Lubbock         Medical Neglect   \n",
       "1             2024     Armstrong     1-Lubbock  Neglectful Supervision   \n",
       "2             2024     Armstrong     1-Lubbock          Physical Abuse   \n",
       "3             2024     Armstrong     1-Lubbock        Physical Neglect   \n",
       "4             2024     Armstrong     1-Lubbock            Sexual Abuse   \n",
       "...            ...           ...           ...                     ...   \n",
       "17907         2015  Out of State  Out of State         Medical Neglect   \n",
       "17908         2015  Out of State  Out of State  Neglectful Supervision   \n",
       "17909         2015  Out of State  Out of State          Physical Abuse   \n",
       "17910         2015  Out of State  Out of State        Physical Neglect   \n",
       "17911         2015  Out of State  Out of State            Sexual Abuse   \n",
       "\n",
       "       Allegation Count  \n",
       "0                     3  \n",
       "1                    12  \n",
       "2                     2  \n",
       "3                     4  \n",
       "4                     3  \n",
       "...                 ...  \n",
       "17907                 4  \n",
       "17908                56  \n",
       "17909                10  \n",
       "17910                 4  \n",
       "17911                13  \n",
       "\n",
       "[17912 rows x 5 columns]"
      ]
     },
     "execution_count": 134,
     "metadata": {},
     "output_type": "execute_result"
    }
   ],
   "source": [
    "df.sort_index()"
   ]
  },
  {
   "cell_type": "code",
   "execution_count": null,
   "id": "069b5652-ceef-45e7-85c8-92e387eef272",
   "metadata": {},
   "outputs": [],
   "source": [
    "##This cell sorted the values by year"
   ]
  },
  {
   "cell_type": "code",
   "execution_count": 135,
   "id": "9a70b782-a85e-4ed6-a826-fe2fc7d1a26a",
   "metadata": {},
   "outputs": [
    {
     "data": {
      "text/html": [
       "<div>\n",
       "<style scoped>\n",
       "    .dataframe tbody tr th:only-of-type {\n",
       "        vertical-align: middle;\n",
       "    }\n",
       "\n",
       "    .dataframe tbody tr th {\n",
       "        vertical-align: top;\n",
       "    }\n",
       "\n",
       "    .dataframe thead th {\n",
       "        text-align: right;\n",
       "    }\n",
       "</style>\n",
       "<table border=\"1\" class=\"dataframe\">\n",
       "  <thead>\n",
       "    <tr style=\"text-align: right;\">\n",
       "      <th></th>\n",
       "      <th>Fiscal Year</th>\n",
       "      <th>County</th>\n",
       "      <th>Region</th>\n",
       "      <th>Type of Allegation</th>\n",
       "      <th>Allegation Count</th>\n",
       "    </tr>\n",
       "  </thead>\n",
       "  <tbody>\n",
       "    <tr>\n",
       "      <th>17911</th>\n",
       "      <td>2015</td>\n",
       "      <td>Out of State</td>\n",
       "      <td>Out of State</td>\n",
       "      <td>Sexual Abuse</td>\n",
       "      <td>13</td>\n",
       "    </tr>\n",
       "    <tr>\n",
       "      <th>16779</th>\n",
       "      <td>2015</td>\n",
       "      <td>Tarrant</td>\n",
       "      <td>3-Arlington</td>\n",
       "      <td>Physical Abuse</td>\n",
       "      <td>7427</td>\n",
       "    </tr>\n",
       "    <tr>\n",
       "      <th>16780</th>\n",
       "      <td>2015</td>\n",
       "      <td>Tarrant</td>\n",
       "      <td>3-Arlington</td>\n",
       "      <td>Physical Neglect</td>\n",
       "      <td>2779</td>\n",
       "    </tr>\n",
       "    <tr>\n",
       "      <th>16781</th>\n",
       "      <td>2015</td>\n",
       "      <td>Tarrant</td>\n",
       "      <td>3-Arlington</td>\n",
       "      <td>Refusal To Accept Parental Responsibility</td>\n",
       "      <td>176</td>\n",
       "    </tr>\n",
       "    <tr>\n",
       "      <th>16782</th>\n",
       "      <td>2015</td>\n",
       "      <td>Tarrant</td>\n",
       "      <td>3-Arlington</td>\n",
       "      <td>Sex Trafficking</td>\n",
       "      <td>2</td>\n",
       "    </tr>\n",
       "    <tr>\n",
       "      <th>...</th>\n",
       "      <td>...</td>\n",
       "      <td>...</td>\n",
       "      <td>...</td>\n",
       "      <td>...</td>\n",
       "      <td>...</td>\n",
       "    </tr>\n",
       "    <tr>\n",
       "      <th>1202</th>\n",
       "      <td>2024</td>\n",
       "      <td>Mills</td>\n",
       "      <td>7-Austin</td>\n",
       "      <td>Medical Neglect</td>\n",
       "      <td>2</td>\n",
       "    </tr>\n",
       "    <tr>\n",
       "      <th>1203</th>\n",
       "      <td>2024</td>\n",
       "      <td>Mills</td>\n",
       "      <td>7-Austin</td>\n",
       "      <td>Neglectful Supervision</td>\n",
       "      <td>24</td>\n",
       "    </tr>\n",
       "    <tr>\n",
       "      <th>1204</th>\n",
       "      <td>2024</td>\n",
       "      <td>Mills</td>\n",
       "      <td>7-Austin</td>\n",
       "      <td>Physical Abuse</td>\n",
       "      <td>14</td>\n",
       "    </tr>\n",
       "    <tr>\n",
       "      <th>1122</th>\n",
       "      <td>2024</td>\n",
       "      <td>Hays</td>\n",
       "      <td>7-Austin</td>\n",
       "      <td>Emotional Abuse</td>\n",
       "      <td>57</td>\n",
       "    </tr>\n",
       "    <tr>\n",
       "      <th>0</th>\n",
       "      <td>2024</td>\n",
       "      <td>Armstrong</td>\n",
       "      <td>1-Lubbock</td>\n",
       "      <td>Medical Neglect</td>\n",
       "      <td>3</td>\n",
       "    </tr>\n",
       "  </tbody>\n",
       "</table>\n",
       "<p>17912 rows × 5 columns</p>\n",
       "</div>"
      ],
      "text/plain": [
       "       Fiscal Year        County        Region  \\\n",
       "17911         2015  Out of State  Out of State   \n",
       "16779         2015       Tarrant   3-Arlington   \n",
       "16780         2015       Tarrant   3-Arlington   \n",
       "16781         2015       Tarrant   3-Arlington   \n",
       "16782         2015       Tarrant   3-Arlington   \n",
       "...            ...           ...           ...   \n",
       "1202          2024         Mills      7-Austin   \n",
       "1203          2024         Mills      7-Austin   \n",
       "1204          2024         Mills      7-Austin   \n",
       "1122          2024          Hays      7-Austin   \n",
       "0             2024     Armstrong     1-Lubbock   \n",
       "\n",
       "                              Type of Allegation  Allegation Count  \n",
       "17911                               Sexual Abuse                13  \n",
       "16779                             Physical Abuse              7427  \n",
       "16780                           Physical Neglect              2779  \n",
       "16781  Refusal To Accept Parental Responsibility               176  \n",
       "16782                            Sex Trafficking                 2  \n",
       "...                                          ...               ...  \n",
       "1202                             Medical Neglect                 2  \n",
       "1203                      Neglectful Supervision                24  \n",
       "1204                              Physical Abuse                14  \n",
       "1122                             Emotional Abuse                57  \n",
       "0                                Medical Neglect                 3  \n",
       "\n",
       "[17912 rows x 5 columns]"
      ]
     },
     "execution_count": 135,
     "metadata": {},
     "output_type": "execute_result"
    }
   ],
   "source": [
    "df.sort_values(by='Fiscal Year')"
   ]
  },
  {
   "cell_type": "code",
   "execution_count": null,
   "id": "50b437ca-e997-461d-9842-3e27a2492b27",
   "metadata": {},
   "outputs": [],
   "source": [
    "## This cell grouped data by Fiscal Year to only include 2024 "
   ]
  },
  {
   "cell_type": "code",
   "execution_count": 266,
   "id": "382210fe-a3f4-4f01-826e-7a9c3a1121fe",
   "metadata": {},
   "outputs": [
    {
     "data": {
      "text/html": [
       "<div>\n",
       "<style scoped>\n",
       "    .dataframe tbody tr th:only-of-type {\n",
       "        vertical-align: middle;\n",
       "    }\n",
       "\n",
       "    .dataframe tbody tr th {\n",
       "        vertical-align: top;\n",
       "    }\n",
       "\n",
       "    .dataframe thead th {\n",
       "        text-align: right;\n",
       "    }\n",
       "</style>\n",
       "<table border=\"1\" class=\"dataframe\">\n",
       "  <thead>\n",
       "    <tr style=\"text-align: right;\">\n",
       "      <th></th>\n",
       "      <th>Fiscal Year</th>\n",
       "      <th>County</th>\n",
       "      <th>Region</th>\n",
       "      <th>Type of Allegation</th>\n",
       "      <th>Allegation Count</th>\n",
       "    </tr>\n",
       "  </thead>\n",
       "  <tbody>\n",
       "    <tr>\n",
       "      <th>0</th>\n",
       "      <td>2024</td>\n",
       "      <td>Armstrong</td>\n",
       "      <td>1-Lubbock</td>\n",
       "      <td>Medical Neglect</td>\n",
       "      <td>3</td>\n",
       "    </tr>\n",
       "    <tr>\n",
       "      <th>1</th>\n",
       "      <td>2024</td>\n",
       "      <td>Armstrong</td>\n",
       "      <td>1-Lubbock</td>\n",
       "      <td>Neglectful Supervision</td>\n",
       "      <td>12</td>\n",
       "    </tr>\n",
       "    <tr>\n",
       "      <th>2</th>\n",
       "      <td>2024</td>\n",
       "      <td>Armstrong</td>\n",
       "      <td>1-Lubbock</td>\n",
       "      <td>Physical Abuse</td>\n",
       "      <td>2</td>\n",
       "    </tr>\n",
       "    <tr>\n",
       "      <th>3</th>\n",
       "      <td>2024</td>\n",
       "      <td>Armstrong</td>\n",
       "      <td>1-Lubbock</td>\n",
       "      <td>Physical Neglect</td>\n",
       "      <td>4</td>\n",
       "    </tr>\n",
       "    <tr>\n",
       "      <th>4</th>\n",
       "      <td>2024</td>\n",
       "      <td>Armstrong</td>\n",
       "      <td>1-Lubbock</td>\n",
       "      <td>Sexual Abuse</td>\n",
       "      <td>3</td>\n",
       "    </tr>\n",
       "    <tr>\n",
       "      <th>...</th>\n",
       "      <td>...</td>\n",
       "      <td>...</td>\n",
       "      <td>...</td>\n",
       "      <td>...</td>\n",
       "      <td>...</td>\n",
       "    </tr>\n",
       "    <tr>\n",
       "      <th>1790</th>\n",
       "      <td>2024</td>\n",
       "      <td>Out of State</td>\n",
       "      <td>Out of State</td>\n",
       "      <td>Medical Neglect</td>\n",
       "      <td>3</td>\n",
       "    </tr>\n",
       "    <tr>\n",
       "      <th>1791</th>\n",
       "      <td>2024</td>\n",
       "      <td>Out of State</td>\n",
       "      <td>Out of State</td>\n",
       "      <td>Neglectful Supervision</td>\n",
       "      <td>39</td>\n",
       "    </tr>\n",
       "    <tr>\n",
       "      <th>1792</th>\n",
       "      <td>2024</td>\n",
       "      <td>Out of State</td>\n",
       "      <td>Out of State</td>\n",
       "      <td>Physical Abuse</td>\n",
       "      <td>8</td>\n",
       "    </tr>\n",
       "    <tr>\n",
       "      <th>1793</th>\n",
       "      <td>2024</td>\n",
       "      <td>Out of State</td>\n",
       "      <td>Out of State</td>\n",
       "      <td>Physical Neglect</td>\n",
       "      <td>11</td>\n",
       "    </tr>\n",
       "    <tr>\n",
       "      <th>1794</th>\n",
       "      <td>2024</td>\n",
       "      <td>Out of State</td>\n",
       "      <td>Out of State</td>\n",
       "      <td>Sexual Abuse</td>\n",
       "      <td>1</td>\n",
       "    </tr>\n",
       "  </tbody>\n",
       "</table>\n",
       "<p>1795 rows × 5 columns</p>\n",
       "</div>"
      ],
      "text/plain": [
       "      Fiscal Year        County        Region      Type of Allegation  \\\n",
       "0            2024     Armstrong     1-Lubbock         Medical Neglect   \n",
       "1            2024     Armstrong     1-Lubbock  Neglectful Supervision   \n",
       "2            2024     Armstrong     1-Lubbock          Physical Abuse   \n",
       "3            2024     Armstrong     1-Lubbock        Physical Neglect   \n",
       "4            2024     Armstrong     1-Lubbock            Sexual Abuse   \n",
       "...           ...           ...           ...                     ...   \n",
       "1790         2024  Out of State  Out of State         Medical Neglect   \n",
       "1791         2024  Out of State  Out of State  Neglectful Supervision   \n",
       "1792         2024  Out of State  Out of State          Physical Abuse   \n",
       "1793         2024  Out of State  Out of State        Physical Neglect   \n",
       "1794         2024  Out of State  Out of State            Sexual Abuse   \n",
       "\n",
       "      Allegation Count  \n",
       "0                    3  \n",
       "1                   12  \n",
       "2                    2  \n",
       "3                    4  \n",
       "4                    3  \n",
       "...                ...  \n",
       "1790                 3  \n",
       "1791                39  \n",
       "1792                 8  \n",
       "1793                11  \n",
       "1794                 1  \n",
       "\n",
       "[1795 rows x 5 columns]"
      ]
     },
     "execution_count": 266,
     "metadata": {},
     "output_type": "execute_result"
    }
   ],
   "source": [
    "df_2024 = df[df['Fiscal Year'] == 2024]\n",
    "df_2024"
   ]
  },
  {
   "cell_type": "code",
   "execution_count": null,
   "id": "a3773eed-6cff-4a71-a757-61eb9256dc06",
   "metadata": {},
   "outputs": [],
   "source": [
    "## This cell shows all the columns "
   ]
  },
  {
   "cell_type": "code",
   "execution_count": 252,
   "id": "c8285e93-3749-4709-b811-1deec869910e",
   "metadata": {},
   "outputs": [
    {
     "name": "stdout",
     "output_type": "stream",
     "text": [
      "Index(['Fiscal Year', 'County', 'Region', 'Type of Allegation',\n",
      "       'Allegation Count'],\n",
      "      dtype='object')\n"
     ]
    }
   ],
   "source": [
    "print(df.columns)"
   ]
  },
  {
   "cell_type": "code",
   "execution_count": null,
   "id": "c07225d4-dd0e-4e57-8351-90cf3c3ab946",
   "metadata": {},
   "outputs": [],
   "source": [
    "## This cell sorted the values by the allegation count "
   ]
  },
  {
   "cell_type": "code",
   "execution_count": 253,
   "id": "d6bc0e08-9fb1-4d03-b724-86668b004bbe",
   "metadata": {},
   "outputs": [
    {
     "data": {
      "text/html": [
       "<div>\n",
       "<style scoped>\n",
       "    .dataframe tbody tr th:only-of-type {\n",
       "        vertical-align: middle;\n",
       "    }\n",
       "\n",
       "    .dataframe tbody tr th {\n",
       "        vertical-align: top;\n",
       "    }\n",
       "\n",
       "    .dataframe thead th {\n",
       "        text-align: right;\n",
       "    }\n",
       "</style>\n",
       "<table border=\"1\" class=\"dataframe\">\n",
       "  <thead>\n",
       "    <tr style=\"text-align: right;\">\n",
       "      <th></th>\n",
       "      <th>Fiscal Year</th>\n",
       "      <th>County</th>\n",
       "      <th>Region</th>\n",
       "      <th>Type of Allegation</th>\n",
       "      <th>Allegation Count</th>\n",
       "    </tr>\n",
       "  </thead>\n",
       "  <tbody>\n",
       "    <tr>\n",
       "      <th>3819</th>\n",
       "      <td>2022</td>\n",
       "      <td>Oldham</td>\n",
       "      <td>1-Lubbock</td>\n",
       "      <td>Refusal To Accept Parental Responsibility</td>\n",
       "      <td>1</td>\n",
       "    </tr>\n",
       "    <tr>\n",
       "      <th>9925</th>\n",
       "      <td>2019</td>\n",
       "      <td>Polk</td>\n",
       "      <td>5-Beaumont</td>\n",
       "      <td>Refusal To Accept Parental Responsibility</td>\n",
       "      <td>1</td>\n",
       "    </tr>\n",
       "    <tr>\n",
       "      <th>2659</th>\n",
       "      <td>2023</td>\n",
       "      <td>Sabine</td>\n",
       "      <td>5-Beaumont</td>\n",
       "      <td>Emotional Abuse</td>\n",
       "      <td>1</td>\n",
       "    </tr>\n",
       "    <tr>\n",
       "      <th>15831</th>\n",
       "      <td>2016</td>\n",
       "      <td>Maverick</td>\n",
       "      <td>8-San Antonio</td>\n",
       "      <td>Sex Trafficking</td>\n",
       "      <td>1</td>\n",
       "    </tr>\n",
       "    <tr>\n",
       "      <th>5872</th>\n",
       "      <td>2021</td>\n",
       "      <td>Throckmorton</td>\n",
       "      <td>2-Abilene</td>\n",
       "      <td>Emotional Abuse</td>\n",
       "      <td>1</td>\n",
       "    </tr>\n",
       "    <tr>\n",
       "      <th>...</th>\n",
       "      <td>...</td>\n",
       "      <td>...</td>\n",
       "      <td>...</td>\n",
       "      <td>...</td>\n",
       "      <td>...</td>\n",
       "    </tr>\n",
       "    <tr>\n",
       "      <th>10019</th>\n",
       "      <td>2019</td>\n",
       "      <td>Harris</td>\n",
       "      <td>6-Houston</td>\n",
       "      <td>Neglectful Supervision</td>\n",
       "      <td>23799</td>\n",
       "    </tr>\n",
       "    <tr>\n",
       "      <th>8214</th>\n",
       "      <td>2020</td>\n",
       "      <td>Harris</td>\n",
       "      <td>6-Houston</td>\n",
       "      <td>Neglectful Supervision</td>\n",
       "      <td>24363</td>\n",
       "    </tr>\n",
       "    <tr>\n",
       "      <th>11838</th>\n",
       "      <td>2018</td>\n",
       "      <td>Harris</td>\n",
       "      <td>6-Houston</td>\n",
       "      <td>Neglectful Supervision</td>\n",
       "      <td>24571</td>\n",
       "    </tr>\n",
       "    <tr>\n",
       "      <th>13620</th>\n",
       "      <td>2017</td>\n",
       "      <td>Harris</td>\n",
       "      <td>6-Houston</td>\n",
       "      <td>Neglectful Supervision</td>\n",
       "      <td>25376</td>\n",
       "    </tr>\n",
       "    <tr>\n",
       "      <th>6416</th>\n",
       "      <td>2021</td>\n",
       "      <td>Harris</td>\n",
       "      <td>6-Houston</td>\n",
       "      <td>Neglectful Supervision</td>\n",
       "      <td>25794</td>\n",
       "    </tr>\n",
       "  </tbody>\n",
       "</table>\n",
       "<p>17912 rows × 5 columns</p>\n",
       "</div>"
      ],
      "text/plain": [
       "       Fiscal Year        County         Region  \\\n",
       "3819          2022        Oldham      1-Lubbock   \n",
       "9925          2019          Polk     5-Beaumont   \n",
       "2659          2023        Sabine     5-Beaumont   \n",
       "15831         2016      Maverick  8-San Antonio   \n",
       "5872          2021  Throckmorton      2-Abilene   \n",
       "...            ...           ...            ...   \n",
       "10019         2019        Harris      6-Houston   \n",
       "8214          2020        Harris      6-Houston   \n",
       "11838         2018        Harris      6-Houston   \n",
       "13620         2017        Harris      6-Houston   \n",
       "6416          2021        Harris      6-Houston   \n",
       "\n",
       "                              Type of Allegation  Allegation Count  \n",
       "3819   Refusal To Accept Parental Responsibility                 1  \n",
       "9925   Refusal To Accept Parental Responsibility                 1  \n",
       "2659                             Emotional Abuse                 1  \n",
       "15831                            Sex Trafficking                 1  \n",
       "5872                             Emotional Abuse                 1  \n",
       "...                                          ...               ...  \n",
       "10019                     Neglectful Supervision             23799  \n",
       "8214                      Neglectful Supervision             24363  \n",
       "11838                     Neglectful Supervision             24571  \n",
       "13620                     Neglectful Supervision             25376  \n",
       "6416                      Neglectful Supervision             25794  \n",
       "\n",
       "[17912 rows x 5 columns]"
      ]
     },
     "execution_count": 253,
     "metadata": {},
     "output_type": "execute_result"
    }
   ],
   "source": [
    "df.sort_values(\"Allegation Count\")"
   ]
  },
  {
   "cell_type": "code",
   "execution_count": null,
   "id": "907b4883-e81d-446b-b4e2-66ee5c86af88",
   "metadata": {},
   "outputs": [],
   "source": [
    "## This cell showed what appeared most frequently in the data set"
   ]
  },
  {
   "cell_type": "code",
   "execution_count": 246,
   "id": "482b2fef-15f8-4c4b-b281-e64d7d2de527",
   "metadata": {},
   "outputs": [
    {
     "data": {
      "text/html": [
       "<div>\n",
       "<style scoped>\n",
       "    .dataframe tbody tr th:only-of-type {\n",
       "        vertical-align: middle;\n",
       "    }\n",
       "\n",
       "    .dataframe tbody tr th {\n",
       "        vertical-align: top;\n",
       "    }\n",
       "\n",
       "    .dataframe thead th {\n",
       "        text-align: right;\n",
       "    }\n",
       "</style>\n",
       "<table border=\"1\" class=\"dataframe\">\n",
       "  <thead>\n",
       "    <tr style=\"text-align: right;\">\n",
       "      <th></th>\n",
       "      <th>Fiscal Year</th>\n",
       "      <th>County</th>\n",
       "      <th>Region</th>\n",
       "      <th>Type of Allegation</th>\n",
       "      <th>Allegation Count</th>\n",
       "    </tr>\n",
       "  </thead>\n",
       "  <tbody>\n",
       "    <tr>\n",
       "      <th>0</th>\n",
       "      <td>2023.0</td>\n",
       "      <td>Bexar</td>\n",
       "      <td>1-Lubbock</td>\n",
       "      <td>Neglectful Supervision</td>\n",
       "      <td>1.0</td>\n",
       "    </tr>\n",
       "    <tr>\n",
       "      <th>1</th>\n",
       "      <td>NaN</td>\n",
       "      <td>Harris</td>\n",
       "      <td>NaN</td>\n",
       "      <td>NaN</td>\n",
       "      <td>NaN</td>\n",
       "    </tr>\n",
       "    <tr>\n",
       "      <th>2</th>\n",
       "      <td>NaN</td>\n",
       "      <td>Tarrant</td>\n",
       "      <td>NaN</td>\n",
       "      <td>NaN</td>\n",
       "      <td>NaN</td>\n",
       "    </tr>\n",
       "  </tbody>\n",
       "</table>\n",
       "</div>"
      ],
      "text/plain": [
       "   Fiscal Year   County     Region      Type of Allegation  Allegation Count\n",
       "0       2023.0    Bexar  1-Lubbock  Neglectful Supervision               1.0\n",
       "1          NaN   Harris        NaN                     NaN               NaN\n",
       "2          NaN  Tarrant        NaN                     NaN               NaN"
      ]
     },
     "execution_count": 246,
     "metadata": {},
     "output_type": "execute_result"
    }
   ],
   "source": [
    "df.mode()"
   ]
  },
  {
   "cell_type": "code",
   "execution_count": null,
   "id": "39fab3c7-9b56-4d83-b45c-30dc4f70de32",
   "metadata": {},
   "outputs": [],
   "source": [
    "## This shows the sum of the data set "
   ]
  },
  {
   "cell_type": "code",
   "execution_count": 285,
   "id": "4b05b84e-cbdd-463b-a8b4-fbd0beee55b7",
   "metadata": {},
   "outputs": [
    {
     "data": {
      "text/plain": [
       "Fiscal Year                                                    36174168\n",
       "County                ArmstrongArmstrongArmstrongArmstrongArmstrongB...\n",
       "Region                1-Lubbock1-Lubbock1-Lubbock1-Lubbock1-Lubbock1...\n",
       "Type of Allegation    Medical NeglectNeglectful SupervisionPhysical ...\n",
       "Allegation Count                                                3594104\n",
       "dtype: object"
      ]
     },
     "execution_count": 285,
     "metadata": {},
     "output_type": "execute_result"
    }
   ],
   "source": [
    "df.sum()"
   ]
  },
  {
   "cell_type": "code",
   "execution_count": null,
   "id": "c1727af0-426d-4704-bd45-0316c8172437",
   "metadata": {},
   "outputs": [],
   "source": [
    "## This cell shows the data sorted by allegation count and fiscal year"
   ]
  },
  {
   "cell_type": "code",
   "execution_count": 256,
   "id": "c1992453-f0f3-488b-a989-83cee7cd6140",
   "metadata": {},
   "outputs": [
    {
     "data": {
      "text/html": [
       "<div>\n",
       "<style scoped>\n",
       "    .dataframe tbody tr th:only-of-type {\n",
       "        vertical-align: middle;\n",
       "    }\n",
       "\n",
       "    .dataframe tbody tr th {\n",
       "        vertical-align: top;\n",
       "    }\n",
       "\n",
       "    .dataframe thead th {\n",
       "        text-align: right;\n",
       "    }\n",
       "</style>\n",
       "<table border=\"1\" class=\"dataframe\">\n",
       "  <thead>\n",
       "    <tr style=\"text-align: right;\">\n",
       "      <th></th>\n",
       "      <th>Fiscal Year</th>\n",
       "      <th>County</th>\n",
       "      <th>Region</th>\n",
       "      <th>Type of Allegation</th>\n",
       "      <th>Allegation Count</th>\n",
       "    </tr>\n",
       "  </thead>\n",
       "  <tbody>\n",
       "    <tr>\n",
       "      <th>16224</th>\n",
       "      <td>2015</td>\n",
       "      <td>Armstrong</td>\n",
       "      <td>1-Lubbock</td>\n",
       "      <td>Emotional Abuse</td>\n",
       "      <td>1</td>\n",
       "    </tr>\n",
       "    <tr>\n",
       "      <th>16243</th>\n",
       "      <td>2015</td>\n",
       "      <td>Carson</td>\n",
       "      <td>1-Lubbock</td>\n",
       "      <td>Refusal To Accept Parental Responsibility</td>\n",
       "      <td>1</td>\n",
       "    </tr>\n",
       "    <tr>\n",
       "      <th>16250</th>\n",
       "      <td>2015</td>\n",
       "      <td>Childress</td>\n",
       "      <td>1-Lubbock</td>\n",
       "      <td>Emotional Abuse</td>\n",
       "      <td>1</td>\n",
       "    </tr>\n",
       "    <tr>\n",
       "      <th>16263</th>\n",
       "      <td>2015</td>\n",
       "      <td>Collingsworth</td>\n",
       "      <td>1-Lubbock</td>\n",
       "      <td>Refusal To Accept Parental Responsibility</td>\n",
       "      <td>1</td>\n",
       "    </tr>\n",
       "    <tr>\n",
       "      <th>16272</th>\n",
       "      <td>2015</td>\n",
       "      <td>Dallam</td>\n",
       "      <td>1-Lubbock</td>\n",
       "      <td>Emotional Abuse</td>\n",
       "      <td>1</td>\n",
       "    </tr>\n",
       "    <tr>\n",
       "      <th>...</th>\n",
       "      <td>...</td>\n",
       "      <td>...</td>\n",
       "      <td>...</td>\n",
       "      <td>...</td>\n",
       "      <td>...</td>\n",
       "    </tr>\n",
       "    <tr>\n",
       "      <th>10019</th>\n",
       "      <td>2019</td>\n",
       "      <td>Harris</td>\n",
       "      <td>6-Houston</td>\n",
       "      <td>Neglectful Supervision</td>\n",
       "      <td>23799</td>\n",
       "    </tr>\n",
       "    <tr>\n",
       "      <th>8214</th>\n",
       "      <td>2020</td>\n",
       "      <td>Harris</td>\n",
       "      <td>6-Houston</td>\n",
       "      <td>Neglectful Supervision</td>\n",
       "      <td>24363</td>\n",
       "    </tr>\n",
       "    <tr>\n",
       "      <th>11838</th>\n",
       "      <td>2018</td>\n",
       "      <td>Harris</td>\n",
       "      <td>6-Houston</td>\n",
       "      <td>Neglectful Supervision</td>\n",
       "      <td>24571</td>\n",
       "    </tr>\n",
       "    <tr>\n",
       "      <th>13620</th>\n",
       "      <td>2017</td>\n",
       "      <td>Harris</td>\n",
       "      <td>6-Houston</td>\n",
       "      <td>Neglectful Supervision</td>\n",
       "      <td>25376</td>\n",
       "    </tr>\n",
       "    <tr>\n",
       "      <th>6416</th>\n",
       "      <td>2021</td>\n",
       "      <td>Harris</td>\n",
       "      <td>6-Houston</td>\n",
       "      <td>Neglectful Supervision</td>\n",
       "      <td>25794</td>\n",
       "    </tr>\n",
       "  </tbody>\n",
       "</table>\n",
       "<p>17912 rows × 5 columns</p>\n",
       "</div>"
      ],
      "text/plain": [
       "       Fiscal Year         County     Region  \\\n",
       "16224         2015      Armstrong  1-Lubbock   \n",
       "16243         2015         Carson  1-Lubbock   \n",
       "16250         2015      Childress  1-Lubbock   \n",
       "16263         2015  Collingsworth  1-Lubbock   \n",
       "16272         2015         Dallam  1-Lubbock   \n",
       "...            ...            ...        ...   \n",
       "10019         2019         Harris  6-Houston   \n",
       "8214          2020         Harris  6-Houston   \n",
       "11838         2018         Harris  6-Houston   \n",
       "13620         2017         Harris  6-Houston   \n",
       "6416          2021         Harris  6-Houston   \n",
       "\n",
       "                              Type of Allegation  Allegation Count  \n",
       "16224                            Emotional Abuse                 1  \n",
       "16243  Refusal To Accept Parental Responsibility                 1  \n",
       "16250                            Emotional Abuse                 1  \n",
       "16263  Refusal To Accept Parental Responsibility                 1  \n",
       "16272                            Emotional Abuse                 1  \n",
       "...                                          ...               ...  \n",
       "10019                     Neglectful Supervision             23799  \n",
       "8214                      Neglectful Supervision             24363  \n",
       "11838                     Neglectful Supervision             24571  \n",
       "13620                     Neglectful Supervision             25376  \n",
       "6416                      Neglectful Supervision             25794  \n",
       "\n",
       "[17912 rows x 5 columns]"
      ]
     },
     "execution_count": 256,
     "metadata": {},
     "output_type": "execute_result"
    }
   ],
   "source": [
    "df.sort_values(['Allegation Count', 'Fiscal Year'])"
   ]
  },
  {
   "cell_type": "code",
   "execution_count": null,
   "id": "235a97d9-6d72-49eb-9443-48c0d1e8fea5",
   "metadata": {},
   "outputs": [],
   "source": [
    "## This cell flipped the datas columns and rows "
   ]
  },
  {
   "cell_type": "code",
   "execution_count": 257,
   "id": "9bd6322c-a824-4e6f-9ffc-843439312414",
   "metadata": {},
   "outputs": [
    {
     "data": {
      "text/html": [
       "<div>\n",
       "<style scoped>\n",
       "    .dataframe tbody tr th:only-of-type {\n",
       "        vertical-align: middle;\n",
       "    }\n",
       "\n",
       "    .dataframe tbody tr th {\n",
       "        vertical-align: top;\n",
       "    }\n",
       "\n",
       "    .dataframe thead th {\n",
       "        text-align: right;\n",
       "    }\n",
       "</style>\n",
       "<table border=\"1\" class=\"dataframe\">\n",
       "  <thead>\n",
       "    <tr style=\"text-align: right;\">\n",
       "      <th></th>\n",
       "      <th>0</th>\n",
       "      <th>1</th>\n",
       "      <th>2</th>\n",
       "      <th>3</th>\n",
       "      <th>4</th>\n",
       "      <th>5</th>\n",
       "      <th>6</th>\n",
       "      <th>7</th>\n",
       "      <th>8</th>\n",
       "      <th>9</th>\n",
       "      <th>...</th>\n",
       "      <th>17902</th>\n",
       "      <th>17903</th>\n",
       "      <th>17904</th>\n",
       "      <th>17905</th>\n",
       "      <th>17906</th>\n",
       "      <th>17907</th>\n",
       "      <th>17908</th>\n",
       "      <th>17909</th>\n",
       "      <th>17910</th>\n",
       "      <th>17911</th>\n",
       "    </tr>\n",
       "  </thead>\n",
       "  <tbody>\n",
       "    <tr>\n",
       "      <th>Fiscal Year</th>\n",
       "      <td>2024</td>\n",
       "      <td>2024</td>\n",
       "      <td>2024</td>\n",
       "      <td>2024</td>\n",
       "      <td>2024</td>\n",
       "      <td>2024</td>\n",
       "      <td>2024</td>\n",
       "      <td>2024</td>\n",
       "      <td>2024</td>\n",
       "      <td>2024</td>\n",
       "      <td>...</td>\n",
       "      <td>2015</td>\n",
       "      <td>2015</td>\n",
       "      <td>2015</td>\n",
       "      <td>2015</td>\n",
       "      <td>2015</td>\n",
       "      <td>2015</td>\n",
       "      <td>2015</td>\n",
       "      <td>2015</td>\n",
       "      <td>2015</td>\n",
       "      <td>2015</td>\n",
       "    </tr>\n",
       "    <tr>\n",
       "      <th>County</th>\n",
       "      <td>Armstrong</td>\n",
       "      <td>Armstrong</td>\n",
       "      <td>Armstrong</td>\n",
       "      <td>Armstrong</td>\n",
       "      <td>Armstrong</td>\n",
       "      <td>Bailey</td>\n",
       "      <td>Bailey</td>\n",
       "      <td>Bailey</td>\n",
       "      <td>Bailey</td>\n",
       "      <td>Bailey</td>\n",
       "      <td>...</td>\n",
       "      <td>Zapata</td>\n",
       "      <td>Zapata</td>\n",
       "      <td>Zapata</td>\n",
       "      <td>Zapata</td>\n",
       "      <td>Zapata</td>\n",
       "      <td>Out of State</td>\n",
       "      <td>Out of State</td>\n",
       "      <td>Out of State</td>\n",
       "      <td>Out of State</td>\n",
       "      <td>Out of State</td>\n",
       "    </tr>\n",
       "    <tr>\n",
       "      <th>Region</th>\n",
       "      <td>1-Lubbock</td>\n",
       "      <td>1-Lubbock</td>\n",
       "      <td>1-Lubbock</td>\n",
       "      <td>1-Lubbock</td>\n",
       "      <td>1-Lubbock</td>\n",
       "      <td>1-Lubbock</td>\n",
       "      <td>1-Lubbock</td>\n",
       "      <td>1-Lubbock</td>\n",
       "      <td>1-Lubbock</td>\n",
       "      <td>1-Lubbock</td>\n",
       "      <td>...</td>\n",
       "      <td>11-Edinburg</td>\n",
       "      <td>11-Edinburg</td>\n",
       "      <td>11-Edinburg</td>\n",
       "      <td>11-Edinburg</td>\n",
       "      <td>11-Edinburg</td>\n",
       "      <td>Out of State</td>\n",
       "      <td>Out of State</td>\n",
       "      <td>Out of State</td>\n",
       "      <td>Out of State</td>\n",
       "      <td>Out of State</td>\n",
       "    </tr>\n",
       "    <tr>\n",
       "      <th>Type of Allegation</th>\n",
       "      <td>Medical Neglect</td>\n",
       "      <td>Neglectful Supervision</td>\n",
       "      <td>Physical Abuse</td>\n",
       "      <td>Physical Neglect</td>\n",
       "      <td>Sexual Abuse</td>\n",
       "      <td>Emotional Abuse</td>\n",
       "      <td>Neglectful Supervision</td>\n",
       "      <td>Physical Abuse</td>\n",
       "      <td>Physical Neglect</td>\n",
       "      <td>Sexual Abuse</td>\n",
       "      <td>...</td>\n",
       "      <td>Neglectful Supervision</td>\n",
       "      <td>Physical Abuse</td>\n",
       "      <td>Physical Neglect</td>\n",
       "      <td>Refusal To Accept Parental Responsibility</td>\n",
       "      <td>Sexual Abuse</td>\n",
       "      <td>Medical Neglect</td>\n",
       "      <td>Neglectful Supervision</td>\n",
       "      <td>Physical Abuse</td>\n",
       "      <td>Physical Neglect</td>\n",
       "      <td>Sexual Abuse</td>\n",
       "    </tr>\n",
       "    <tr>\n",
       "      <th>Allegation Count</th>\n",
       "      <td>3</td>\n",
       "      <td>12</td>\n",
       "      <td>2</td>\n",
       "      <td>4</td>\n",
       "      <td>3</td>\n",
       "      <td>3</td>\n",
       "      <td>16</td>\n",
       "      <td>11</td>\n",
       "      <td>1</td>\n",
       "      <td>5</td>\n",
       "      <td>...</td>\n",
       "      <td>130</td>\n",
       "      <td>70</td>\n",
       "      <td>43</td>\n",
       "      <td>1</td>\n",
       "      <td>22</td>\n",
       "      <td>4</td>\n",
       "      <td>56</td>\n",
       "      <td>10</td>\n",
       "      <td>4</td>\n",
       "      <td>13</td>\n",
       "    </tr>\n",
       "  </tbody>\n",
       "</table>\n",
       "<p>5 rows × 17912 columns</p>\n",
       "</div>"
      ],
      "text/plain": [
       "                              0                       1               2      \\\n",
       "Fiscal Year                    2024                    2024            2024   \n",
       "County                    Armstrong               Armstrong       Armstrong   \n",
       "Region                    1-Lubbock               1-Lubbock       1-Lubbock   \n",
       "Type of Allegation  Medical Neglect  Neglectful Supervision  Physical Abuse   \n",
       "Allegation Count                  3                      12               2   \n",
       "\n",
       "                               3             4                5      \\\n",
       "Fiscal Year                     2024          2024             2024   \n",
       "County                     Armstrong     Armstrong           Bailey   \n",
       "Region                     1-Lubbock     1-Lubbock        1-Lubbock   \n",
       "Type of Allegation  Physical Neglect  Sexual Abuse  Emotional Abuse   \n",
       "Allegation Count                   4             3                3   \n",
       "\n",
       "                                     6               7                 8      \\\n",
       "Fiscal Year                           2024            2024              2024   \n",
       "County                              Bailey          Bailey            Bailey   \n",
       "Region                           1-Lubbock       1-Lubbock         1-Lubbock   \n",
       "Type of Allegation  Neglectful Supervision  Physical Abuse  Physical Neglect   \n",
       "Allegation Count                        16              11                 1   \n",
       "\n",
       "                           9      ...                   17902           17903  \\\n",
       "Fiscal Year                 2024  ...                    2015            2015   \n",
       "County                    Bailey  ...                  Zapata          Zapata   \n",
       "Region                 1-Lubbock  ...             11-Edinburg     11-Edinburg   \n",
       "Type of Allegation  Sexual Abuse  ...  Neglectful Supervision  Physical Abuse   \n",
       "Allegation Count               5  ...                     130              70   \n",
       "\n",
       "                               17904  \\\n",
       "Fiscal Year                     2015   \n",
       "County                        Zapata   \n",
       "Region                   11-Edinburg   \n",
       "Type of Allegation  Physical Neglect   \n",
       "Allegation Count                  43   \n",
       "\n",
       "                                                        17905         17906  \\\n",
       "Fiscal Year                                              2015          2015   \n",
       "County                                                 Zapata        Zapata   \n",
       "Region                                            11-Edinburg   11-Edinburg   \n",
       "Type of Allegation  Refusal To Accept Parental Responsibility  Sexual Abuse   \n",
       "Allegation Count                                            1            22   \n",
       "\n",
       "                              17907                   17908           17909  \\\n",
       "Fiscal Year                    2015                    2015            2015   \n",
       "County                 Out of State            Out of State    Out of State   \n",
       "Region                 Out of State            Out of State    Out of State   \n",
       "Type of Allegation  Medical Neglect  Neglectful Supervision  Physical Abuse   \n",
       "Allegation Count                  4                      56              10   \n",
       "\n",
       "                               17910         17911  \n",
       "Fiscal Year                     2015          2015  \n",
       "County                  Out of State  Out of State  \n",
       "Region                  Out of State  Out of State  \n",
       "Type of Allegation  Physical Neglect  Sexual Abuse  \n",
       "Allegation Count                   4            13  \n",
       "\n",
       "[5 rows x 17912 columns]"
      ]
     },
     "execution_count": 257,
     "metadata": {},
     "output_type": "execute_result"
    }
   ],
   "source": [
    "df.transpose()"
   ]
  },
  {
   "cell_type": "code",
   "execution_count": null,
   "id": "e5a4e62c-a9fc-47e1-ad9b-ccf4d7078b4e",
   "metadata": {},
   "outputs": [],
   "source": [
    "## This cell grouped allegation count per count and then added them together"
   ]
  },
  {
   "cell_type": "code",
   "execution_count": 261,
   "id": "dac56aa6-17cb-44ce-9ff7-f01586b97e70",
   "metadata": {},
   "outputs": [
    {
     "name": "stdout",
     "output_type": "stream",
     "text": [
      "County\n",
      "Anderson     602\n",
      "Andrews      195\n",
      "Angelina    1424\n",
      "Aransas      330\n",
      "Archer        74\n",
      "            ... \n",
      "Wood         547\n",
      "Yoakum        56\n",
      "Young        294\n",
      "Zapata       122\n",
      "Zavala       216\n",
      "Name: Allegation Count, Length: 254, dtype: int64\n"
     ]
    }
   ],
   "source": [
    "allegations_per_county_2024 = df_2024.groupby('County')['Allegation Count'].sum()\n",
    "print (allegations_per_county_2024)"
   ]
  },
  {
   "cell_type": "code",
   "execution_count": null,
   "id": "43ebc1a7-2033-4bb9-8062-18b370f7f03e",
   "metadata": {},
   "outputs": [],
   "source": [
    "## This cell shows the allegation per county *Texas has 254*"
   ]
  },
  {
   "cell_type": "code",
   "execution_count": 264,
   "id": "c83fe479-47cf-4274-8c1c-350e41e54020",
   "metadata": {},
   "outputs": [
    {
     "data": {
      "text/plain": [
       "County\n",
       "Anderson     602\n",
       "Andrews      195\n",
       "Angelina    1424\n",
       "Aransas      330\n",
       "Archer        74\n",
       "            ... \n",
       "Wood         547\n",
       "Yoakum        56\n",
       "Young        294\n",
       "Zapata       122\n",
       "Zavala       216\n",
       "Name: Allegation Count, Length: 254, dtype: int64"
      ]
     },
     "execution_count": 264,
     "metadata": {},
     "output_type": "execute_result"
    }
   ],
   "source": [
    "allegations_per_county_2024.head(254)"
   ]
  },
  {
   "cell_type": "code",
   "execution_count": null,
   "id": "a2b1065a-f4f9-4899-ae9c-966dab02d864",
   "metadata": {},
   "outputs": [],
   "source": [
    "## This cell added up all the allegations for 2024 "
   ]
  },
  {
   "cell_type": "code",
   "execution_count": 284,
   "id": "921bf52f-cc58-4642-b367-a0c76277d8e9",
   "metadata": {},
   "outputs": [
    {
     "data": {
      "text/plain": [
       "np.int64(306489)"
      ]
     },
     "execution_count": 284,
     "metadata": {},
     "output_type": "execute_result"
    }
   ],
   "source": [
    "allegations_per_county_2024.sum()"
   ]
  },
  {
   "cell_type": "code",
   "execution_count": null,
   "id": "4da32c4d-9af0-4161-a995-97a86c009f90",
   "metadata": {},
   "outputs": [],
   "source": [
    "## This cell showed how the data is formatted in python/pandas "
   ]
  },
  {
   "cell_type": "code",
   "execution_count": 259,
   "id": "b06908de-bace-4be8-89f6-99d4a5604b4e",
   "metadata": {},
   "outputs": [
    {
     "data": {
      "text/plain": [
       "Fiscal Year            int64\n",
       "County                object\n",
       "Region                object\n",
       "Type of Allegation    object\n",
       "Allegation Count       int64\n",
       "dtype: object"
      ]
     },
     "execution_count": 259,
     "metadata": {},
     "output_type": "execute_result"
    }
   ],
   "source": [
    "df.dtypes"
   ]
  },
  {
   "cell_type": "code",
   "execution_count": null,
   "id": "88f9c859-ea71-4e45-b5d2-34d4cb2ba21e",
   "metadata": {},
   "outputs": [],
   "source": [
    "## This cell calculated the allegation count fo"
   ]
  },
  {
   "cell_type": "code",
   "execution_count": 258,
   "id": "f98f92c0-4f23-4d46-9097-a1214a23fdc0",
   "metadata": {},
   "outputs": [
    {
     "data": {
      "text/plain": [
       "Fiscal Year                                                     3633080\n",
       "County                ArmstrongArmstrongArmstrongArmstrongArmstrongB...\n",
       "Region                1-Lubbock1-Lubbock1-Lubbock1-Lubbock1-Lubbock1...\n",
       "Type of Allegation    Medical NeglectNeglectful SupervisionPhysical ...\n",
       "Allegation Count                                                 306489\n",
       "dtype: object"
      ]
     },
     "execution_count": 258,
     "metadata": {},
     "output_type": "execute_result"
    }
   ],
   "source": [
    "df_2024.sum()"
   ]
  },
  {
   "cell_type": "code",
   "execution_count": 83,
   "id": "536139a7-ad1a-4041-adf7-26bb9975816b",
   "metadata": {},
   "outputs": [
    {
     "data": {
      "text/plain": [
       "Index(['Fiscal Year', 'County', 'Region', 'Type of Allegation',\n",
       "       'Allegation Count'],\n",
       "      dtype='object')"
      ]
     },
     "execution_count": 83,
     "metadata": {},
     "output_type": "execute_result"
    }
   ],
   "source": [
    "df.columns"
   ]
  },
  {
   "cell_type": "code",
   "execution_count": 84,
   "id": "7cda1949-c3c7-494d-b22d-8045aaa1bade",
   "metadata": {},
   "outputs": [
    {
     "data": {
      "text/plain": [
       "Fiscal Year            int64\n",
       "County                object\n",
       "Region                object\n",
       "Type of Allegation    object\n",
       "Allegation Count       int64\n",
       "dtype: object"
      ]
     },
     "execution_count": 84,
     "metadata": {},
     "output_type": "execute_result"
    }
   ],
   "source": [
    "df.dtypes"
   ]
  },
  {
   "cell_type": "code",
   "execution_count": 64,
   "id": "e6b2578a-1899-4938-b7ec-fbe6b2f6c28b",
   "metadata": {},
   "outputs": [
    {
     "name": "stdout",
     "output_type": "stream",
     "text": [
      "17912\n"
     ]
    }
   ],
   "source": [
    "print(len(df))"
   ]
  },
  {
   "cell_type": "code",
   "execution_count": 164,
   "id": "02016e9a-ffca-4900-b613-b6f26e245fc6",
   "metadata": {},
   "outputs": [
    {
     "name": "stdout",
     "output_type": "stream",
     "text": [
      "1795\n"
     ]
    }
   ],
   "source": [
    "print(len(df_2024))"
   ]
  },
  {
   "cell_type": "code",
   "execution_count": 286,
   "id": "5a1d8686-60f4-4319-bfe7-3c3c35342956",
   "metadata": {},
   "outputs": [
    {
     "name": "stdout",
     "output_type": "stream",
     "text": [
      "254\n"
     ]
    }
   ],
   "source": [
    "print(len(allegations_per_county_2024))"
   ]
  },
  {
   "cell_type": "code",
   "execution_count": null,
   "id": "c72ef786-163d-4ed7-9f9a-7e7f161708d0",
   "metadata": {},
   "outputs": [],
   "source": [
    "pr"
   ]
  },
  {
   "cell_type": "code",
   "execution_count": 51,
   "id": "1e9c273b-da51-4bde-8abc-738659f307ac",
   "metadata": {},
   "outputs": [
    {
     "data": {
      "text/plain": [
       "0        2024\n",
       "1        2024\n",
       "2        2024\n",
       "3        2024\n",
       "4        2024\n",
       "         ... \n",
       "17907    2015\n",
       "17908    2015\n",
       "17909    2015\n",
       "17910    2015\n",
       "17911    2015\n",
       "Name: Fiscal Year, Length: 17912, dtype: int64"
      ]
     },
     "execution_count": 51,
     "metadata": {},
     "output_type": "execute_result"
    }
   ],
   "source": [
    "df['Fiscal Year']"
   ]
  },
  {
   "cell_type": "code",
   "execution_count": 314,
   "id": "ee1a1bf9-215a-40fa-81de-f3c6286d5ca8",
   "metadata": {},
   "outputs": [
    {
     "data": {
      "text/plain": [
       "np.float64(2024.0)"
      ]
     },
     "execution_count": 314,
     "metadata": {},
     "output_type": "execute_result"
    }
   ],
   "source": [
    "df_2024['Fiscal Year'].median()"
   ]
  },
  {
   "cell_type": "code",
   "execution_count": 55,
   "id": "87039a55-7e12-448f-806d-dd6f8d805524",
   "metadata": {},
   "outputs": [
    {
     "data": {
      "text/plain": [
       "np.float64(2019.5493523894595)"
      ]
     },
     "execution_count": 55,
     "metadata": {},
     "output_type": "execute_result"
    }
   ],
   "source": [
    "df['Fiscal Year'].mean()"
   ]
  },
  {
   "cell_type": "code",
   "execution_count": 222,
   "id": "ac3958dd-f917-46f8-9fd7-c866e7af8da2",
   "metadata": {},
   "outputs": [
    {
     "name": "stdout",
     "output_type": "stream",
     "text": [
      "Type of Allegation\n",
      "Neglectful Supervision                       2524\n",
      "Physical Abuse                               2483\n",
      "Sexual Abuse                                 2462\n",
      "Physical Neglect                             2377\n",
      "Medical Neglect                              2331\n",
      "Emotional Abuse                              2167\n",
      "Refusal To Accept Parental Responsibility    1589\n",
      "Sex Trafficking                               879\n",
      "Abandonment                                   872\n",
      "Labor Trafficking                             228\n",
      "Name: count, dtype: int64\n"
     ]
    }
   ],
   "source": [
    "count_value = df['Type of Allegation'].value_counts()\n",
    "print(count_value)"
   ]
  },
  {
   "cell_type": "code",
   "execution_count": 224,
   "id": "f311ad52-d9ae-42da-a65a-93ab8b34d5ff",
   "metadata": {},
   "outputs": [
    {
     "data": {
      "text/plain": [
       "0    Neglectful Supervision\n",
       "Name: Type of Allegation, dtype: object"
      ]
     },
     "execution_count": 224,
     "metadata": {},
     "output_type": "execute_result"
    }
   ],
   "source": [
    "df['Type of Allegation'].mode()"
   ]
  },
  {
   "cell_type": "code",
   "execution_count": 58,
   "id": "336b476e-00a2-4865-bcbc-901a2738b482",
   "metadata": {},
   "outputs": [
    {
     "data": {
      "text/plain": [
       "count                      17912\n",
       "unique                        10\n",
       "top       Neglectful Supervision\n",
       "freq                        2524\n",
       "Name: Type of Allegation, dtype: object"
      ]
     },
     "execution_count": 58,
     "metadata": {},
     "output_type": "execute_result"
    }
   ],
   "source": [
    "df['Type of Allegation'].describe()"
   ]
  },
  {
   "cell_type": "code",
   "execution_count": 139,
   "id": "dca9d51d-a423-4722-a245-4e9a6bc810aa",
   "metadata": {},
   "outputs": [
    {
     "data": {
      "text/plain": [
       "<bound method DataFrame.mean of       Fiscal Year        County        Region      Type of Allegation  \\\n",
       "0            2024     Armstrong     1-Lubbock         Medical Neglect   \n",
       "1            2024     Armstrong     1-Lubbock  Neglectful Supervision   \n",
       "2            2024     Armstrong     1-Lubbock          Physical Abuse   \n",
       "3            2024     Armstrong     1-Lubbock        Physical Neglect   \n",
       "4            2024     Armstrong     1-Lubbock            Sexual Abuse   \n",
       "...           ...           ...           ...                     ...   \n",
       "1790         2024  Out of State  Out of State         Medical Neglect   \n",
       "1791         2024  Out of State  Out of State  Neglectful Supervision   \n",
       "1792         2024  Out of State  Out of State          Physical Abuse   \n",
       "1793         2024  Out of State  Out of State        Physical Neglect   \n",
       "1794         2024  Out of State  Out of State            Sexual Abuse   \n",
       "\n",
       "      Allegation Count  \n",
       "0                    3  \n",
       "1                   12  \n",
       "2                    2  \n",
       "3                    4  \n",
       "4                    3  \n",
       "...                ...  \n",
       "1790                 3  \n",
       "1791                39  \n",
       "1792                 8  \n",
       "1793                11  \n",
       "1794                 1  \n",
       "\n",
       "[1795 rows x 5 columns]>"
      ]
     },
     "execution_count": 139,
     "metadata": {},
     "output_type": "execute_result"
    }
   ],
   "source": [
    "df_2024.mean"
   ]
  },
  {
   "cell_type": "code",
   "execution_count": 104,
   "id": "8a2b9a53-002e-4edd-8472-9daa8f5842d0",
   "metadata": {},
   "outputs": [
    {
     "data": {
      "text/plain": [
       "<bound method Series.sum of 0        2024\n",
       "1        2024\n",
       "2        2024\n",
       "3        2024\n",
       "4        2024\n",
       "         ... \n",
       "17907    2015\n",
       "17908    2015\n",
       "17909    2015\n",
       "17910    2015\n",
       "17911    2015\n",
       "Name: Fiscal Year, Length: 17912, dtype: int64>"
      ]
     },
     "execution_count": 104,
     "metadata": {},
     "output_type": "execute_result"
    }
   ],
   "source": [
    "df.sum "
   ]
  },
  {
   "cell_type": "code",
   "execution_count": 281,
   "id": "8e31796d-6c8f-4180-92e8-1f57ea51860d",
   "metadata": {},
   "outputs": [
    {
     "data": {
      "text/plain": [
       "np.int64(17912)"
      ]
     },
     "execution_count": 281,
     "metadata": {},
     "output_type": "execute_result"
    }
   ],
   "source": [
    "allegation_types.sum()"
   ]
  },
  {
   "cell_type": "code",
   "execution_count": 282,
   "id": "6102075c-54ca-46ce-8d11-2f1cd79b7ff1",
   "metadata": {},
   "outputs": [
    {
     "data": {
      "text/plain": [
       "Fiscal Year                                                     3633080\n",
       "County                ArmstrongArmstrongArmstrongArmstrongArmstrongB...\n",
       "Region                1-Lubbock1-Lubbock1-Lubbock1-Lubbock1-Lubbock1...\n",
       "Type of Allegation    Medical NeglectNeglectful SupervisionPhysical ...\n",
       "Allegation Count                                                 306489\n",
       "dtype: object"
      ]
     },
     "execution_count": 282,
     "metadata": {},
     "output_type": "execute_result"
    }
   ],
   "source": [
    "df_2024.sum()"
   ]
  },
  {
   "cell_type": "code",
   "execution_count": 149,
   "id": "21dad957-c05a-4a9e-b95d-3e2356bb77d6",
   "metadata": {},
   "outputs": [
    {
     "name": "stdout",
     "output_type": "stream",
     "text": [
      "Type of Allegation\n",
      "Abandonment                                     666\n",
      "Emotional Abuse                                7291\n",
      "Labor Trafficking                                52\n",
      "Medical Neglect                               13237\n",
      "Neglectful Supervision                       159035\n",
      "Physical Abuse                                55785\n",
      "Physical Neglect                              21328\n",
      "Refusal To Accept Parental Responsibility      2279\n",
      "Sex Trafficking                                 642\n",
      "Sexual Abuse                                  46174\n",
      "Name: Allegation Count, dtype: int64\n"
     ]
    }
   ],
   "source": [
    "allegation_counts_2024 = df[df['Fiscal Year']== 2024].groupby('Type of Allegation')['Allegation Count'].sum()\n",
    "print(allegation_counts_2024)"
   ]
  },
  {
   "cell_type": "code",
   "execution_count": 291,
   "id": "c1bdbd8d-fbb3-48c7-b9bb-e58ba3ecd2c7",
   "metadata": {},
   "outputs": [
    {
     "ename": "TypeError",
     "evalue": "'Index' object is not callable",
     "output_type": "error",
     "traceback": [
      "\u001b[0;31m---------------------------------------------------------------------------\u001b[0m",
      "\u001b[0;31mTypeError\u001b[0m                                 Traceback (most recent call last)",
      "Cell \u001b[0;32mIn[291], line 1\u001b[0m\n\u001b[0;32m----> 1\u001b[0m \u001b[43mdf_2024\u001b[49m\u001b[38;5;241;43m.\u001b[39;49m\u001b[43mcolumns\u001b[49m\u001b[43m(\u001b[49m\u001b[43m)\u001b[49m\n",
      "\u001b[0;31mTypeError\u001b[0m: 'Index' object is not callable"
     ]
    }
   ],
   "source": [
    "df_2024.columns()"
   ]
  },
  {
   "cell_type": "code",
   "execution_count": 269,
   "id": "54bff6a5-4171-429b-bbd8-f7768e586044",
   "metadata": {},
   "outputs": [
    {
     "name": "stdout",
     "output_type": "stream",
     "text": [
      "County\n",
      "Anderson     602\n",
      "Andrews      195\n",
      "Angelina    1424\n",
      "Aransas      330\n",
      "Archer        74\n",
      "            ... \n",
      "Wood         547\n",
      "Yoakum        56\n",
      "Young        294\n",
      "Zapata       122\n",
      "Zavala       216\n",
      "Name: Allegation Count, Length: 254, dtype: int64\n"
     ]
    }
   ],
   "source": [
    "county_2024 = df[df['Fiscal Year']== 2024].groupby('County')['Allegation Count'].sum()\n",
    "print(county_2024)\n",
    "## the number of allegations counts by county "
   ]
  },
  {
   "cell_type": "code",
   "execution_count": 306,
   "id": "98a45ff6-cdc1-4b7a-9b3b-55b8f0aff960",
   "metadata": {},
   "outputs": [
    {
     "name": "stdout",
     "output_type": "stream",
     "text": [
      "County\n",
      "Anderson     602\n",
      "Andrews      195\n",
      "Angelina    1424\n",
      "Aransas      330\n",
      "Archer        74\n",
      "            ... \n",
      "Wood         547\n",
      "Yoakum        56\n",
      "Young        294\n",
      "Zapata       122\n",
      "Zavala       216\n",
      "Name: Allegation Count, Length: 254, dtype: int64\n"
     ]
    }
   ],
   "source": [
    "county_totals = county_2024.groupby('County').sum()\n",
    "print(county_totals)"
   ]
  },
  {
   "cell_type": "code",
   "execution_count": 308,
   "id": "10812c77-512d-4406-b5a5-7400ad7f4fc2",
   "metadata": {},
   "outputs": [
    {
     "data": {
      "text/plain": [
       "County\n",
       "Roberts         1\n",
       "Terrell         1\n",
       "McMullen        2\n",
       "Borden          2\n",
       "Loving          2\n",
       "            ...  \n",
       "Travis       9780\n",
       "Tarrant     22161\n",
       "Dallas      23983\n",
       "Bexar       26222\n",
       "Harris      44565\n",
       "Name: Allegation Count, Length: 254, dtype: int64"
      ]
     },
     "execution_count": 308,
     "metadata": {},
     "output_type": "execute_result"
    }
   ],
   "source": [
    "county_totals.sort_values()"
   ]
  },
  {
   "cell_type": "code",
   "execution_count": 294,
   "id": "cdf118a6-e772-4bee-922f-7975443ddd30",
   "metadata": {},
   "outputs": [
    {
     "data": {
      "text/plain": [
       "np.int64(44565)"
      ]
     },
     "execution_count": 294,
     "metadata": {},
     "output_type": "execute_result"
    }
   ],
   "source": [
    "county_2024.max()"
   ]
  },
  {
   "cell_type": "code",
   "execution_count": 272,
   "id": "c5694183-1893-417b-9de9-4115e0bcb7fd",
   "metadata": {},
   "outputs": [
    {
     "data": {
      "text/plain": [
       "count      254.000000\n",
       "mean      1206.649606\n",
       "std       3998.475975\n",
       "min          1.000000\n",
       "25%         74.250000\n",
       "50%        250.000000\n",
       "75%        655.500000\n",
       "max      44565.000000\n",
       "Name: Allegation Count, dtype: float64"
      ]
     },
     "execution_count": 272,
     "metadata": {},
     "output_type": "execute_result"
    }
   ],
   "source": [
    "county_2024.describe()"
   ]
  },
  {
   "cell_type": "code",
   "execution_count": 275,
   "id": "20c5a35f-4e67-4770-85bc-d7b7e7681b04",
   "metadata": {},
   "outputs": [
    {
     "data": {
      "text/plain": [
       "np.int64(306489)"
      ]
     },
     "execution_count": 275,
     "metadata": {},
     "output_type": "execute_result"
    }
   ],
   "source": [
    "county_2024.sum()"
   ]
  },
  {
   "cell_type": "code",
   "execution_count": 196,
   "id": "b14bd241-2c76-42d4-b687-8f798620f7d3",
   "metadata": {},
   "outputs": [
    {
     "data": {
      "text/plain": [
       "County\n",
       "Harris     501089\n",
       "Bexar      298590\n",
       "Dallas     292471\n",
       "Tarrant    271256\n",
       "Travis     120998\n",
       "Name: Allegation Count, dtype: int64"
      ]
     },
     "execution_count": 196,
     "metadata": {},
     "output_type": "execute_result"
    }
   ],
   "source": [
    "df.groupby(\"County\")[\"Allegation Count\"].sum().sort_values(ascending=False).head(5)\n",
    "## counties with the highest type of allegation"
   ]
  },
  {
   "cell_type": "code",
   "execution_count": 202,
   "id": "b72fa86b-6129-4b8b-920c-776c5673556e",
   "metadata": {},
   "outputs": [
    {
     "data": {
      "text/plain": [
       "County\n",
       "Harris        501089\n",
       "Bexar         298590\n",
       "Dallas        292471\n",
       "Tarrant       271256\n",
       "Travis        120998\n",
       "Hidalgo       117894\n",
       "El Paso        98898\n",
       "Bell           67944\n",
       "Denton         66383\n",
       "Collin         64836\n",
       "Montgomery     64324\n",
       "Nueces         63582\n",
       "Cameron        61459\n",
       "Lubbock        50526\n",
       "Fort Bend      48550\n",
       "McLennan       46002\n",
       "Williamson     45770\n",
       "Galveston      40470\n",
       "Jefferson      36719\n",
       "Taylor         36655\n",
       "Name: Allegation Count, dtype: int64"
      ]
     },
     "execution_count": 202,
     "metadata": {},
     "output_type": "execute_result"
    }
   ],
   "source": [
    "df.groupby(\"County\")[\"Allegation Count\"].sum().sort_values(ascending=False).head(20)"
   ]
  },
  {
   "cell_type": "code",
   "execution_count": null,
   "id": "946b6c4f-30e5-4693-a70f-4ba3ddfb64ac",
   "metadata": {},
   "outputs": [],
   "source": [
    "df.groupby"
   ]
  },
  {
   "cell_type": "code",
   "execution_count": 189,
   "id": "81778815-aa78-44cd-baba-4dd1534b740d",
   "metadata": {},
   "outputs": [
    {
     "data": {
      "text/plain": [
       "Allegation Count\n",
       "14      5\n",
       "113     3\n",
       "28      3\n",
       "25      3\n",
       "2       3\n",
       "       ..\n",
       "367     1\n",
       "351     1\n",
       "1832    1\n",
       "1507    1\n",
       "216     1\n",
       "Name: count, Length: 222, dtype: int64"
      ]
     },
     "execution_count": 189,
     "metadata": {},
     "output_type": "execute_result"
    }
   ],
   "source": [
    "county_2024.value_counts()"
   ]
  },
  {
   "cell_type": "code",
   "execution_count": 299,
   "id": "de668ba7-cdec-4a54-b18c-4013177a3551",
   "metadata": {},
   "outputs": [
    {
     "data": {
      "text/plain": [
       "County\n",
       "Anderson      602\n",
       "Andrews       195\n",
       "Angelina     1424\n",
       "Aransas       330\n",
       "Archer         74\n",
       "            ...  \n",
       "Hamilton      164\n",
       "Hansford       39\n",
       "Hardeman       56\n",
       "Hardin        669\n",
       "Harris      44565\n",
       "Name: Allegation Count, Length: 101, dtype: int64"
      ]
     },
     "execution_count": 299,
     "metadata": {},
     "output_type": "execute_result"
    }
   ],
   "source": [
    "county_2024.head(101)"
   ]
  },
  {
   "cell_type": "code",
   "execution_count": 167,
   "id": "0d5a25f1-d6b4-4e8e-8eeb-0bfa042870f0",
   "metadata": {},
   "outputs": [
    {
     "data": {
      "text/html": [
       "<div>\n",
       "<style scoped>\n",
       "    .dataframe tbody tr th:only-of-type {\n",
       "        vertical-align: middle;\n",
       "    }\n",
       "\n",
       "    .dataframe tbody tr th {\n",
       "        vertical-align: top;\n",
       "    }\n",
       "\n",
       "    .dataframe thead th {\n",
       "        text-align: right;\n",
       "    }\n",
       "</style>\n",
       "<table border=\"1\" class=\"dataframe\">\n",
       "  <thead>\n",
       "    <tr style=\"text-align: right;\">\n",
       "      <th></th>\n",
       "      <th>Fiscal Year</th>\n",
       "      <th>County</th>\n",
       "      <th>Region</th>\n",
       "      <th>Type of Allegation</th>\n",
       "      <th>Allegation Count</th>\n",
       "    </tr>\n",
       "  </thead>\n",
       "  <tbody>\n",
       "    <tr>\n",
       "      <th>0</th>\n",
       "      <td>False</td>\n",
       "      <td>False</td>\n",
       "      <td>False</td>\n",
       "      <td>False</td>\n",
       "      <td>False</td>\n",
       "    </tr>\n",
       "    <tr>\n",
       "      <th>1</th>\n",
       "      <td>False</td>\n",
       "      <td>False</td>\n",
       "      <td>False</td>\n",
       "      <td>False</td>\n",
       "      <td>False</td>\n",
       "    </tr>\n",
       "    <tr>\n",
       "      <th>2</th>\n",
       "      <td>False</td>\n",
       "      <td>False</td>\n",
       "      <td>False</td>\n",
       "      <td>False</td>\n",
       "      <td>False</td>\n",
       "    </tr>\n",
       "    <tr>\n",
       "      <th>3</th>\n",
       "      <td>False</td>\n",
       "      <td>False</td>\n",
       "      <td>False</td>\n",
       "      <td>False</td>\n",
       "      <td>False</td>\n",
       "    </tr>\n",
       "    <tr>\n",
       "      <th>4</th>\n",
       "      <td>False</td>\n",
       "      <td>False</td>\n",
       "      <td>False</td>\n",
       "      <td>False</td>\n",
       "      <td>False</td>\n",
       "    </tr>\n",
       "    <tr>\n",
       "      <th>...</th>\n",
       "      <td>...</td>\n",
       "      <td>...</td>\n",
       "      <td>...</td>\n",
       "      <td>...</td>\n",
       "      <td>...</td>\n",
       "    </tr>\n",
       "    <tr>\n",
       "      <th>17907</th>\n",
       "      <td>False</td>\n",
       "      <td>False</td>\n",
       "      <td>False</td>\n",
       "      <td>False</td>\n",
       "      <td>False</td>\n",
       "    </tr>\n",
       "    <tr>\n",
       "      <th>17908</th>\n",
       "      <td>False</td>\n",
       "      <td>False</td>\n",
       "      <td>False</td>\n",
       "      <td>False</td>\n",
       "      <td>False</td>\n",
       "    </tr>\n",
       "    <tr>\n",
       "      <th>17909</th>\n",
       "      <td>False</td>\n",
       "      <td>False</td>\n",
       "      <td>False</td>\n",
       "      <td>False</td>\n",
       "      <td>False</td>\n",
       "    </tr>\n",
       "    <tr>\n",
       "      <th>17910</th>\n",
       "      <td>False</td>\n",
       "      <td>False</td>\n",
       "      <td>False</td>\n",
       "      <td>False</td>\n",
       "      <td>False</td>\n",
       "    </tr>\n",
       "    <tr>\n",
       "      <th>17911</th>\n",
       "      <td>False</td>\n",
       "      <td>False</td>\n",
       "      <td>False</td>\n",
       "      <td>False</td>\n",
       "      <td>False</td>\n",
       "    </tr>\n",
       "  </tbody>\n",
       "</table>\n",
       "<p>17912 rows × 5 columns</p>\n",
       "</div>"
      ],
      "text/plain": [
       "       Fiscal Year  County  Region  Type of Allegation  Allegation Count\n",
       "0            False   False   False               False             False\n",
       "1            False   False   False               False             False\n",
       "2            False   False   False               False             False\n",
       "3            False   False   False               False             False\n",
       "4            False   False   False               False             False\n",
       "...            ...     ...     ...                 ...               ...\n",
       "17907        False   False   False               False             False\n",
       "17908        False   False   False               False             False\n",
       "17909        False   False   False               False             False\n",
       "17910        False   False   False               False             False\n",
       "17911        False   False   False               False             False\n",
       "\n",
       "[17912 rows x 5 columns]"
      ]
     },
     "execution_count": 167,
     "metadata": {},
     "output_type": "execute_result"
    }
   ],
   "source": [
    "df.isna()\n",
    "## zero missing data "
   ]
  },
  {
   "cell_type": "code",
   "execution_count": 184,
   "id": "e0f7dfab-9f1a-4bf0-bfb1-aa011ec3ce0a",
   "metadata": {},
   "outputs": [
    {
     "data": {
      "text/html": [
       "<div>\n",
       "<style scoped>\n",
       "    .dataframe tbody tr th:only-of-type {\n",
       "        vertical-align: middle;\n",
       "    }\n",
       "\n",
       "    .dataframe tbody tr th {\n",
       "        vertical-align: top;\n",
       "    }\n",
       "\n",
       "    .dataframe thead th {\n",
       "        text-align: right;\n",
       "    }\n",
       "</style>\n",
       "<table border=\"1\" class=\"dataframe\">\n",
       "  <thead>\n",
       "    <tr style=\"text-align: right;\">\n",
       "      <th></th>\n",
       "      <th>index</th>\n",
       "      <th>Fiscal Year</th>\n",
       "      <th>County</th>\n",
       "      <th>Region</th>\n",
       "      <th>Type of Allegation</th>\n",
       "      <th>Allegation Count</th>\n",
       "    </tr>\n",
       "  </thead>\n",
       "  <tbody>\n",
       "    <tr>\n",
       "      <th>1453</th>\n",
       "      <td>1453</td>\n",
       "      <td>2024</td>\n",
       "      <td>Zavala</td>\n",
       "      <td>8-San Antonio</td>\n",
       "      <td>Emotional Abuse</td>\n",
       "      <td>2</td>\n",
       "    </tr>\n",
       "    <tr>\n",
       "      <th>1459</th>\n",
       "      <td>1459</td>\n",
       "      <td>2024</td>\n",
       "      <td>Zavala</td>\n",
       "      <td>8-San Antonio</td>\n",
       "      <td>Sexual Abuse</td>\n",
       "      <td>40</td>\n",
       "    </tr>\n",
       "    <tr>\n",
       "      <th>5088</th>\n",
       "      <td>5088</td>\n",
       "      <td>2022</td>\n",
       "      <td>Zavala</td>\n",
       "      <td>8-San Antonio</td>\n",
       "      <td>Refusal To Accept Parental Responsibility</td>\n",
       "      <td>1</td>\n",
       "    </tr>\n",
       "    <tr>\n",
       "      <th>5087</th>\n",
       "      <td>5087</td>\n",
       "      <td>2022</td>\n",
       "      <td>Zavala</td>\n",
       "      <td>8-San Antonio</td>\n",
       "      <td>Physical Neglect</td>\n",
       "      <td>16</td>\n",
       "    </tr>\n",
       "    <tr>\n",
       "      <th>5086</th>\n",
       "      <td>5086</td>\n",
       "      <td>2022</td>\n",
       "      <td>Zavala</td>\n",
       "      <td>8-San Antonio</td>\n",
       "      <td>Physical Abuse</td>\n",
       "      <td>33</td>\n",
       "    </tr>\n",
       "    <tr>\n",
       "      <th>...</th>\n",
       "      <td>...</td>\n",
       "      <td>...</td>\n",
       "      <td>...</td>\n",
       "      <td>...</td>\n",
       "      <td>...</td>\n",
       "      <td>...</td>\n",
       "    </tr>\n",
       "    <tr>\n",
       "      <th>2407</th>\n",
       "      <td>2407</td>\n",
       "      <td>2023</td>\n",
       "      <td>Anderson</td>\n",
       "      <td>4-Tyler</td>\n",
       "      <td>Neglectful Supervision</td>\n",
       "      <td>311</td>\n",
       "    </tr>\n",
       "    <tr>\n",
       "      <th>2406</th>\n",
       "      <td>2406</td>\n",
       "      <td>2023</td>\n",
       "      <td>Anderson</td>\n",
       "      <td>4-Tyler</td>\n",
       "      <td>Medical Neglect</td>\n",
       "      <td>28</td>\n",
       "    </tr>\n",
       "    <tr>\n",
       "      <th>2405</th>\n",
       "      <td>2405</td>\n",
       "      <td>2023</td>\n",
       "      <td>Anderson</td>\n",
       "      <td>4-Tyler</td>\n",
       "      <td>Emotional Abuse</td>\n",
       "      <td>14</td>\n",
       "    </tr>\n",
       "    <tr>\n",
       "      <th>16794</th>\n",
       "      <td>16794</td>\n",
       "      <td>2015</td>\n",
       "      <td>Anderson</td>\n",
       "      <td>4-Tyler</td>\n",
       "      <td>Medical Neglect</td>\n",
       "      <td>38</td>\n",
       "    </tr>\n",
       "    <tr>\n",
       "      <th>13273</th>\n",
       "      <td>13273</td>\n",
       "      <td>2017</td>\n",
       "      <td>Anderson</td>\n",
       "      <td>4-Tyler</td>\n",
       "      <td>Neglectful Supervision</td>\n",
       "      <td>439</td>\n",
       "    </tr>\n",
       "  </tbody>\n",
       "</table>\n",
       "<p>17912 rows × 6 columns</p>\n",
       "</div>"
      ],
      "text/plain": [
       "       index  Fiscal Year    County         Region  \\\n",
       "1453    1453         2024    Zavala  8-San Antonio   \n",
       "1459    1459         2024    Zavala  8-San Antonio   \n",
       "5088    5088         2022    Zavala  8-San Antonio   \n",
       "5087    5087         2022    Zavala  8-San Antonio   \n",
       "5086    5086         2022    Zavala  8-San Antonio   \n",
       "...      ...          ...       ...            ...   \n",
       "2407    2407         2023  Anderson        4-Tyler   \n",
       "2406    2406         2023  Anderson        4-Tyler   \n",
       "2405    2405         2023  Anderson        4-Tyler   \n",
       "16794  16794         2015  Anderson        4-Tyler   \n",
       "13273  13273         2017  Anderson        4-Tyler   \n",
       "\n",
       "                              Type of Allegation  Allegation Count  \n",
       "1453                             Emotional Abuse                 2  \n",
       "1459                                Sexual Abuse                40  \n",
       "5088   Refusal To Accept Parental Responsibility                 1  \n",
       "5087                            Physical Neglect                16  \n",
       "5086                              Physical Abuse                33  \n",
       "...                                          ...               ...  \n",
       "2407                      Neglectful Supervision               311  \n",
       "2406                             Medical Neglect                28  \n",
       "2405                             Emotional Abuse                14  \n",
       "16794                            Medical Neglect                38  \n",
       "13273                     Neglectful Supervision               439  \n",
       "\n",
       "[17912 rows x 6 columns]"
      ]
     },
     "execution_count": 184,
     "metadata": {},
     "output_type": "execute_result"
    }
   ],
   "source": [
    "df.reset_index().sort_values(by = \"County\", ascending=False)\n",
    "## Rows sorted by county from Z-A"
   ]
  },
  {
   "cell_type": "code",
   "execution_count": 313,
   "id": "a1e86490-b45b-49c8-9a79-11683dcbe921",
   "metadata": {},
   "outputs": [
    {
     "name": "stdout",
     "output_type": "stream",
     "text": [
      "Fiscal Year\n",
      "2015    399306\n",
      "2016    381423\n",
      "2017    398738\n",
      "2018    374769\n",
      "2019    348865\n",
      "2020    328306\n",
      "2021    344571\n",
      "2022    356345\n",
      "2023    355292\n",
      "2024    306489\n",
      "Name: Allegation Count, dtype: int64\n"
     ]
    }
   ],
   "source": [
    "cases_per_year = df.groupby('Fiscal Year')['Allegation Count'].sum()\n",
    "print(cases_per_year)"
   ]
  },
  {
   "cell_type": "code",
   "execution_count": 5,
   "id": "17d31221-4d21-4b87-be33-ae5c53c7bb5f",
   "metadata": {},
   "outputs": [],
   "source": [
    "import pandas as pd \n",
    "cases_per_year = pd.DataFrame ({ 'Fiscal Year': [2015, 2016, 2017, 2018, 2019, 2020, 2021, 2022, 2023, 2024],\n",
    "                                'Allegation Count': [399306, 381423, 398738,374769, 348865, 328306, 344571, 356345, 355292, 306489]\n",
    "                               })"
   ]
  },
  {
   "cell_type": "code",
   "execution_count": 320,
   "id": "f5262026-d6fc-4edc-937a-3f94b61e78ee",
   "metadata": {},
   "outputs": [],
   "source": [
    "## This cell shows the number"
   ]
  },
  {
   "cell_type": "code",
   "execution_count": 8,
   "id": "427d9dca-cc7b-48d6-8380-f980bf4737f2",
   "metadata": {},
   "outputs": [
    {
     "ename": "OSError",
     "evalue": "Cannot save file into a non-existent directory: '../output'",
     "output_type": "error",
     "traceback": [
      "\u001b[0;31m---------------------------------------------------------------------------\u001b[0m",
      "\u001b[0;31mOSError\u001b[0m                                   Traceback (most recent call last)",
      "Cell \u001b[0;32mIn[8], line 1\u001b[0m\n\u001b[0;32m----> 1\u001b[0m (\u001b[43mcases_per_year\u001b[49m\u001b[38;5;241;43m.\u001b[39;49m\u001b[43mto_csv\u001b[49m\u001b[43m(\u001b[49m\u001b[38;5;124;43m\"\u001b[39;49m\u001b[38;5;124;43m../output/cases_year.csv\u001b[39;49m\u001b[38;5;124;43m\"\u001b[39;49m\u001b[43m,\u001b[49m\u001b[43m)\u001b[49m)\n",
      "File \u001b[0;32m~/Library/jupyterlab-desktop/jlab_server/lib/python3.12/site-packages/pandas/util/_decorators.py:333\u001b[0m, in \u001b[0;36mdeprecate_nonkeyword_arguments.<locals>.decorate.<locals>.wrapper\u001b[0;34m(*args, **kwargs)\u001b[0m\n\u001b[1;32m    327\u001b[0m \u001b[38;5;28;01mif\u001b[39;00m \u001b[38;5;28mlen\u001b[39m(args) \u001b[38;5;241m>\u001b[39m num_allow_args:\n\u001b[1;32m    328\u001b[0m     warnings\u001b[38;5;241m.\u001b[39mwarn(\n\u001b[1;32m    329\u001b[0m         msg\u001b[38;5;241m.\u001b[39mformat(arguments\u001b[38;5;241m=\u001b[39m_format_argument_list(allow_args)),\n\u001b[1;32m    330\u001b[0m         \u001b[38;5;167;01mFutureWarning\u001b[39;00m,\n\u001b[1;32m    331\u001b[0m         stacklevel\u001b[38;5;241m=\u001b[39mfind_stack_level(),\n\u001b[1;32m    332\u001b[0m     )\n\u001b[0;32m--> 333\u001b[0m \u001b[38;5;28;01mreturn\u001b[39;00m \u001b[43mfunc\u001b[49m\u001b[43m(\u001b[49m\u001b[38;5;241;43m*\u001b[39;49m\u001b[43margs\u001b[49m\u001b[43m,\u001b[49m\u001b[43m \u001b[49m\u001b[38;5;241;43m*\u001b[39;49m\u001b[38;5;241;43m*\u001b[39;49m\u001b[43mkwargs\u001b[49m\u001b[43m)\u001b[49m\n",
      "File \u001b[0;32m~/Library/jupyterlab-desktop/jlab_server/lib/python3.12/site-packages/pandas/core/generic.py:3967\u001b[0m, in \u001b[0;36mNDFrame.to_csv\u001b[0;34m(self, path_or_buf, sep, na_rep, float_format, columns, header, index, index_label, mode, encoding, compression, quoting, quotechar, lineterminator, chunksize, date_format, doublequote, escapechar, decimal, errors, storage_options)\u001b[0m\n\u001b[1;32m   3956\u001b[0m df \u001b[38;5;241m=\u001b[39m \u001b[38;5;28mself\u001b[39m \u001b[38;5;28;01mif\u001b[39;00m \u001b[38;5;28misinstance\u001b[39m(\u001b[38;5;28mself\u001b[39m, ABCDataFrame) \u001b[38;5;28;01melse\u001b[39;00m \u001b[38;5;28mself\u001b[39m\u001b[38;5;241m.\u001b[39mto_frame()\n\u001b[1;32m   3958\u001b[0m formatter \u001b[38;5;241m=\u001b[39m DataFrameFormatter(\n\u001b[1;32m   3959\u001b[0m     frame\u001b[38;5;241m=\u001b[39mdf,\n\u001b[1;32m   3960\u001b[0m     header\u001b[38;5;241m=\u001b[39mheader,\n\u001b[0;32m   (...)\u001b[0m\n\u001b[1;32m   3964\u001b[0m     decimal\u001b[38;5;241m=\u001b[39mdecimal,\n\u001b[1;32m   3965\u001b[0m )\n\u001b[0;32m-> 3967\u001b[0m \u001b[38;5;28;01mreturn\u001b[39;00m \u001b[43mDataFrameRenderer\u001b[49m\u001b[43m(\u001b[49m\u001b[43mformatter\u001b[49m\u001b[43m)\u001b[49m\u001b[38;5;241;43m.\u001b[39;49m\u001b[43mto_csv\u001b[49m\u001b[43m(\u001b[49m\n\u001b[1;32m   3968\u001b[0m \u001b[43m    \u001b[49m\u001b[43mpath_or_buf\u001b[49m\u001b[43m,\u001b[49m\n\u001b[1;32m   3969\u001b[0m \u001b[43m    \u001b[49m\u001b[43mlineterminator\u001b[49m\u001b[38;5;241;43m=\u001b[39;49m\u001b[43mlineterminator\u001b[49m\u001b[43m,\u001b[49m\n\u001b[1;32m   3970\u001b[0m \u001b[43m    \u001b[49m\u001b[43msep\u001b[49m\u001b[38;5;241;43m=\u001b[39;49m\u001b[43msep\u001b[49m\u001b[43m,\u001b[49m\n\u001b[1;32m   3971\u001b[0m \u001b[43m    \u001b[49m\u001b[43mencoding\u001b[49m\u001b[38;5;241;43m=\u001b[39;49m\u001b[43mencoding\u001b[49m\u001b[43m,\u001b[49m\n\u001b[1;32m   3972\u001b[0m \u001b[43m    \u001b[49m\u001b[43merrors\u001b[49m\u001b[38;5;241;43m=\u001b[39;49m\u001b[43merrors\u001b[49m\u001b[43m,\u001b[49m\n\u001b[1;32m   3973\u001b[0m \u001b[43m    \u001b[49m\u001b[43mcompression\u001b[49m\u001b[38;5;241;43m=\u001b[39;49m\u001b[43mcompression\u001b[49m\u001b[43m,\u001b[49m\n\u001b[1;32m   3974\u001b[0m \u001b[43m    \u001b[49m\u001b[43mquoting\u001b[49m\u001b[38;5;241;43m=\u001b[39;49m\u001b[43mquoting\u001b[49m\u001b[43m,\u001b[49m\n\u001b[1;32m   3975\u001b[0m \u001b[43m    \u001b[49m\u001b[43mcolumns\u001b[49m\u001b[38;5;241;43m=\u001b[39;49m\u001b[43mcolumns\u001b[49m\u001b[43m,\u001b[49m\n\u001b[1;32m   3976\u001b[0m \u001b[43m    \u001b[49m\u001b[43mindex_label\u001b[49m\u001b[38;5;241;43m=\u001b[39;49m\u001b[43mindex_label\u001b[49m\u001b[43m,\u001b[49m\n\u001b[1;32m   3977\u001b[0m \u001b[43m    \u001b[49m\u001b[43mmode\u001b[49m\u001b[38;5;241;43m=\u001b[39;49m\u001b[43mmode\u001b[49m\u001b[43m,\u001b[49m\n\u001b[1;32m   3978\u001b[0m \u001b[43m    \u001b[49m\u001b[43mchunksize\u001b[49m\u001b[38;5;241;43m=\u001b[39;49m\u001b[43mchunksize\u001b[49m\u001b[43m,\u001b[49m\n\u001b[1;32m   3979\u001b[0m \u001b[43m    \u001b[49m\u001b[43mquotechar\u001b[49m\u001b[38;5;241;43m=\u001b[39;49m\u001b[43mquotechar\u001b[49m\u001b[43m,\u001b[49m\n\u001b[1;32m   3980\u001b[0m \u001b[43m    \u001b[49m\u001b[43mdate_format\u001b[49m\u001b[38;5;241;43m=\u001b[39;49m\u001b[43mdate_format\u001b[49m\u001b[43m,\u001b[49m\n\u001b[1;32m   3981\u001b[0m \u001b[43m    \u001b[49m\u001b[43mdoublequote\u001b[49m\u001b[38;5;241;43m=\u001b[39;49m\u001b[43mdoublequote\u001b[49m\u001b[43m,\u001b[49m\n\u001b[1;32m   3982\u001b[0m \u001b[43m    \u001b[49m\u001b[43mescapechar\u001b[49m\u001b[38;5;241;43m=\u001b[39;49m\u001b[43mescapechar\u001b[49m\u001b[43m,\u001b[49m\n\u001b[1;32m   3983\u001b[0m \u001b[43m    \u001b[49m\u001b[43mstorage_options\u001b[49m\u001b[38;5;241;43m=\u001b[39;49m\u001b[43mstorage_options\u001b[49m\u001b[43m,\u001b[49m\n\u001b[1;32m   3984\u001b[0m \u001b[43m\u001b[49m\u001b[43m)\u001b[49m\n",
      "File \u001b[0;32m~/Library/jupyterlab-desktop/jlab_server/lib/python3.12/site-packages/pandas/io/formats/format.py:1014\u001b[0m, in \u001b[0;36mDataFrameRenderer.to_csv\u001b[0;34m(self, path_or_buf, encoding, sep, columns, index_label, mode, compression, quoting, quotechar, lineterminator, chunksize, date_format, doublequote, escapechar, errors, storage_options)\u001b[0m\n\u001b[1;32m    993\u001b[0m     created_buffer \u001b[38;5;241m=\u001b[39m \u001b[38;5;28;01mFalse\u001b[39;00m\n\u001b[1;32m    995\u001b[0m csv_formatter \u001b[38;5;241m=\u001b[39m CSVFormatter(\n\u001b[1;32m    996\u001b[0m     path_or_buf\u001b[38;5;241m=\u001b[39mpath_or_buf,\n\u001b[1;32m    997\u001b[0m     lineterminator\u001b[38;5;241m=\u001b[39mlineterminator,\n\u001b[0;32m   (...)\u001b[0m\n\u001b[1;32m   1012\u001b[0m     formatter\u001b[38;5;241m=\u001b[39m\u001b[38;5;28mself\u001b[39m\u001b[38;5;241m.\u001b[39mfmt,\n\u001b[1;32m   1013\u001b[0m )\n\u001b[0;32m-> 1014\u001b[0m \u001b[43mcsv_formatter\u001b[49m\u001b[38;5;241;43m.\u001b[39;49m\u001b[43msave\u001b[49m\u001b[43m(\u001b[49m\u001b[43m)\u001b[49m\n\u001b[1;32m   1016\u001b[0m \u001b[38;5;28;01mif\u001b[39;00m created_buffer:\n\u001b[1;32m   1017\u001b[0m     \u001b[38;5;28;01massert\u001b[39;00m \u001b[38;5;28misinstance\u001b[39m(path_or_buf, StringIO)\n",
      "File \u001b[0;32m~/Library/jupyterlab-desktop/jlab_server/lib/python3.12/site-packages/pandas/io/formats/csvs.py:251\u001b[0m, in \u001b[0;36mCSVFormatter.save\u001b[0;34m(self)\u001b[0m\n\u001b[1;32m    247\u001b[0m \u001b[38;5;250m\u001b[39m\u001b[38;5;124;03m\"\"\"\u001b[39;00m\n\u001b[1;32m    248\u001b[0m \u001b[38;5;124;03mCreate the writer & save.\u001b[39;00m\n\u001b[1;32m    249\u001b[0m \u001b[38;5;124;03m\"\"\"\u001b[39;00m\n\u001b[1;32m    250\u001b[0m \u001b[38;5;66;03m# apply compression and byte/text conversion\u001b[39;00m\n\u001b[0;32m--> 251\u001b[0m \u001b[38;5;28;01mwith\u001b[39;00m \u001b[43mget_handle\u001b[49m\u001b[43m(\u001b[49m\n\u001b[1;32m    252\u001b[0m \u001b[43m    \u001b[49m\u001b[38;5;28;43mself\u001b[39;49m\u001b[38;5;241;43m.\u001b[39;49m\u001b[43mfilepath_or_buffer\u001b[49m\u001b[43m,\u001b[49m\n\u001b[1;32m    253\u001b[0m \u001b[43m    \u001b[49m\u001b[38;5;28;43mself\u001b[39;49m\u001b[38;5;241;43m.\u001b[39;49m\u001b[43mmode\u001b[49m\u001b[43m,\u001b[49m\n\u001b[1;32m    254\u001b[0m \u001b[43m    \u001b[49m\u001b[43mencoding\u001b[49m\u001b[38;5;241;43m=\u001b[39;49m\u001b[38;5;28;43mself\u001b[39;49m\u001b[38;5;241;43m.\u001b[39;49m\u001b[43mencoding\u001b[49m\u001b[43m,\u001b[49m\n\u001b[1;32m    255\u001b[0m \u001b[43m    \u001b[49m\u001b[43merrors\u001b[49m\u001b[38;5;241;43m=\u001b[39;49m\u001b[38;5;28;43mself\u001b[39;49m\u001b[38;5;241;43m.\u001b[39;49m\u001b[43merrors\u001b[49m\u001b[43m,\u001b[49m\n\u001b[1;32m    256\u001b[0m \u001b[43m    \u001b[49m\u001b[43mcompression\u001b[49m\u001b[38;5;241;43m=\u001b[39;49m\u001b[38;5;28;43mself\u001b[39;49m\u001b[38;5;241;43m.\u001b[39;49m\u001b[43mcompression\u001b[49m\u001b[43m,\u001b[49m\n\u001b[1;32m    257\u001b[0m \u001b[43m    \u001b[49m\u001b[43mstorage_options\u001b[49m\u001b[38;5;241;43m=\u001b[39;49m\u001b[38;5;28;43mself\u001b[39;49m\u001b[38;5;241;43m.\u001b[39;49m\u001b[43mstorage_options\u001b[49m\u001b[43m,\u001b[49m\n\u001b[1;32m    258\u001b[0m \u001b[43m\u001b[49m\u001b[43m)\u001b[49m \u001b[38;5;28;01mas\u001b[39;00m handles:\n\u001b[1;32m    259\u001b[0m     \u001b[38;5;66;03m# Note: self.encoding is irrelevant here\u001b[39;00m\n\u001b[1;32m    260\u001b[0m     \u001b[38;5;28mself\u001b[39m\u001b[38;5;241m.\u001b[39mwriter \u001b[38;5;241m=\u001b[39m csvlib\u001b[38;5;241m.\u001b[39mwriter(\n\u001b[1;32m    261\u001b[0m         handles\u001b[38;5;241m.\u001b[39mhandle,\n\u001b[1;32m    262\u001b[0m         lineterminator\u001b[38;5;241m=\u001b[39m\u001b[38;5;28mself\u001b[39m\u001b[38;5;241m.\u001b[39mlineterminator,\n\u001b[0;32m   (...)\u001b[0m\n\u001b[1;32m    267\u001b[0m         quotechar\u001b[38;5;241m=\u001b[39m\u001b[38;5;28mself\u001b[39m\u001b[38;5;241m.\u001b[39mquotechar,\n\u001b[1;32m    268\u001b[0m     )\n\u001b[1;32m    270\u001b[0m     \u001b[38;5;28mself\u001b[39m\u001b[38;5;241m.\u001b[39m_save()\n",
      "File \u001b[0;32m~/Library/jupyterlab-desktop/jlab_server/lib/python3.12/site-packages/pandas/io/common.py:749\u001b[0m, in \u001b[0;36mget_handle\u001b[0;34m(path_or_buf, mode, encoding, compression, memory_map, is_text, errors, storage_options)\u001b[0m\n\u001b[1;32m    747\u001b[0m \u001b[38;5;66;03m# Only for write methods\u001b[39;00m\n\u001b[1;32m    748\u001b[0m \u001b[38;5;28;01mif\u001b[39;00m \u001b[38;5;124m\"\u001b[39m\u001b[38;5;124mr\u001b[39m\u001b[38;5;124m\"\u001b[39m \u001b[38;5;129;01mnot\u001b[39;00m \u001b[38;5;129;01min\u001b[39;00m mode \u001b[38;5;129;01mand\u001b[39;00m is_path:\n\u001b[0;32m--> 749\u001b[0m     \u001b[43mcheck_parent_directory\u001b[49m\u001b[43m(\u001b[49m\u001b[38;5;28;43mstr\u001b[39;49m\u001b[43m(\u001b[49m\u001b[43mhandle\u001b[49m\u001b[43m)\u001b[49m\u001b[43m)\u001b[49m\n\u001b[1;32m    751\u001b[0m \u001b[38;5;28;01mif\u001b[39;00m compression:\n\u001b[1;32m    752\u001b[0m     \u001b[38;5;28;01mif\u001b[39;00m compression \u001b[38;5;241m!=\u001b[39m \u001b[38;5;124m\"\u001b[39m\u001b[38;5;124mzstd\u001b[39m\u001b[38;5;124m\"\u001b[39m:\n\u001b[1;32m    753\u001b[0m         \u001b[38;5;66;03m# compression libraries do not like an explicit text-mode\u001b[39;00m\n",
      "File \u001b[0;32m~/Library/jupyterlab-desktop/jlab_server/lib/python3.12/site-packages/pandas/io/common.py:616\u001b[0m, in \u001b[0;36mcheck_parent_directory\u001b[0;34m(path)\u001b[0m\n\u001b[1;32m    614\u001b[0m parent \u001b[38;5;241m=\u001b[39m Path(path)\u001b[38;5;241m.\u001b[39mparent\n\u001b[1;32m    615\u001b[0m \u001b[38;5;28;01mif\u001b[39;00m \u001b[38;5;129;01mnot\u001b[39;00m parent\u001b[38;5;241m.\u001b[39mis_dir():\n\u001b[0;32m--> 616\u001b[0m     \u001b[38;5;28;01mraise\u001b[39;00m \u001b[38;5;167;01mOSError\u001b[39;00m(\u001b[38;5;124mrf\u001b[39m\u001b[38;5;124m\"\u001b[39m\u001b[38;5;124mCannot save file into a non-existent directory: \u001b[39m\u001b[38;5;124m'\u001b[39m\u001b[38;5;132;01m{\u001b[39;00mparent\u001b[38;5;132;01m}\u001b[39;00m\u001b[38;5;124m'\u001b[39m\u001b[38;5;124m\"\u001b[39m)\n",
      "\u001b[0;31mOSError\u001b[0m: Cannot save file into a non-existent directory: '../output'"
     ]
    }
   ],
   "source": [
    "(cases_per_year.to_csv(\"../output/cases_year.csv\",))"
   ]
  },
  {
   "cell_type": "code",
   "execution_count": null,
   "id": "a05836da-1fdc-4fe3-86a7-cd8159fe7ebd",
   "metadata": {},
   "outputs": [],
   "source": []
  }
 ],
 "metadata": {
  "kernelspec": {
   "display_name": "Python 3 (ipykernel)",
   "language": "python",
   "name": "python3"
  },
  "language_info": {
   "codemirror_mode": {
    "name": "ipython",
    "version": 3
   },
   "file_extension": ".py",
   "mimetype": "text/x-python",
   "name": "python",
   "nbconvert_exporter": "python",
   "pygments_lexer": "ipython3",
   "version": "3.12.5"
  }
 },
 "nbformat": 4,
 "nbformat_minor": 5
}
